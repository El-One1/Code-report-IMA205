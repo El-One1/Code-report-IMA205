{
 "cells": [
  {
   "cell_type": "code",
   "execution_count": 16,
   "metadata": {},
   "outputs": [],
   "source": [
    "import numpy as np\n",
    "from matplotlib import pyplot as plt\n",
    "import pandas as pd\n",
    "\n",
    "import torchio as tio\n",
    "import torch\n",
    "from torch.utils.data import DataLoader\n",
    "from torchvision.transforms import ToTensor\n",
    "import torch.nn.functional as F\n",
    "import torch.nn as nn\n",
    "import torch.optim as optim\n",
    "\n",
    "\n",
    "from sklearn.preprocessing import StandardScaler\n",
    "from sklearn.utils import shuffle\n",
    "from sklearn.model_selection import train_test_split\n",
    "\n",
    "\n",
    "from functions import *"
   ]
  },
  {
   "cell_type": "code",
   "execution_count": 17,
   "metadata": {},
   "outputs": [],
   "source": [
    "metaData = pd.read_csv('../metaDataTrain.csv')\n",
    "metaDataClean = metaData.iloc\n",
    "subject_list = load_training_dataset(metaDataClean)"
   ]
  },
  {
   "attachments": {},
   "cell_type": "markdown",
   "metadata": {},
   "source": [
    "## Let us construct the features vectors"
   ]
  },
  {
   "cell_type": "code",
   "execution_count": 18,
   "metadata": {},
   "outputs": [],
   "source": [
    "features = np.zeros((100, 12))  ## there are 5 features and 20 subjects per training class\n",
    "\n",
    "features_metadata = select_row_x_and_y_from_table(metaDataClean, 2, 3)\n",
    "\n",
    "## adding into features vectors\n",
    "#features[:,:2] = features_metadata"
   ]
  },
  {
   "attachments": {},
   "cell_type": "markdown",
   "metadata": {},
   "source": [
    "Let us add volume information to feature vectors"
   ]
  },
  {
   "cell_type": "code",
   "execution_count": 19,
   "metadata": {},
   "outputs": [],
   "source": [
    "volumes_0_ed = []\n",
    "volumes_1_ed = []\n",
    "volumes_2_ed = []\n",
    "volumes_3_ed = []\n",
    "\n",
    "volumes_0_es = []\n",
    "volumes_1_es = []\n",
    "volumes_2_es = []\n",
    "volumes_3_es = []\n",
    "   \n",
    "for i in range(0, 100):\n",
    "    subject = subject_list[i]\n",
    "    \n",
    "    ed_view = subject.ed_seg\n",
    "    sum_volumes = get_volume(ed_view, 0) + get_volume(ed_view, 1) + get_volume(ed_view, 2) + get_volume(ed_view, 3)\n",
    "    volumes_0_ed.append(get_volume(ed_view, 0)/sum_volumes)\n",
    "    volumes_1_ed.append(get_volume(ed_view, 1)/sum_volumes)\n",
    "    volumes_2_ed.append(get_volume(ed_view, 2)/sum_volumes)\n",
    "    volumes_3_ed.append(get_volume(ed_view, 3)/sum_volumes)\n",
    "\n",
    "    es_view = subject.es_seg\n",
    "    sum_volumes = get_volume(es_view, 0) + get_volume(es_view, 1) + get_volume(es_view, 2) + get_volume(es_view, 3)\n",
    "    volumes_0_es.append(get_volume(es_view, 0)/sum_volumes)\n",
    "    volumes_1_es.append(get_volume(es_view, 1)/sum_volumes)\n",
    "    volumes_2_es.append(get_volume(es_view, 2)/sum_volumes)\n",
    "    volumes_3_es.append(get_volume(es_view, 3)/sum_volumes)\n",
    "\n",
    "volumes_0_ed = np.array([volumes_0_ed]).flatten()\n",
    "volumes_1_ed = np.array([volumes_1_ed]).flatten() \n",
    "volumes_2_ed = np.array([volumes_2_ed]).flatten() \n",
    "volumes_3_ed = np.array([volumes_3_ed]).flatten() \n",
    "\n",
    "volumes_0_es = np.array([volumes_0_es]).flatten()\n",
    "volumes_1_es = np.array([volumes_1_es]).flatten() \n",
    "volumes_2_es = np.array([volumes_2_es]).flatten() \n",
    "volumes_3_es = np.array([volumes_3_es]).flatten() \n",
    "\n",
    "######### new features\n",
    "ejection_fraction_right = (volumes_1_ed - volumes_1_es) / volumes_1_ed\n",
    "ejection_fraction_left = (volumes_3_ed - volumes_3_es) / volumes_3_ed\n",
    "\n",
    "\n",
    "ratioRL_ed = volumes_3_ed / volumes_1_ed\n",
    "ratioRL_es = volumes_3_es / volumes_1_es\n",
    "\n",
    "ratioML_ed = volumes_2_ed / volumes_1_ed\n",
    "ratioML_es = volumes_2_es / volumes_1_es\n",
    "\n",
    "for i, new_col in enumerate([ratioRL_ed[:], ratioRL_es[:], ratioML_ed[:], ratioML_es[:], ejection_fraction_right[:], volumes_1_ed[:], volumes_2_ed[:], volumes_3_ed[:], ejection_fraction_left[:], volumes_1_es[:], volumes_2_es[:], volumes_3_es[:]]):\n",
    "    features[:,i] = new_col"
   ]
  },
  {
   "attachments": {},
   "cell_type": "markdown",
   "metadata": {},
   "source": [
    "Let us just give our explicit class vector"
   ]
  },
  {
   "cell_type": "code",
   "execution_count": 20,
   "metadata": {},
   "outputs": [],
   "source": [
    "classes = np.zeros((100))\n",
    "classes[:20] = 2\n",
    "classes[20:40] = 3\n",
    "classes[40:60] = 1\n",
    "classes[60:80] = 0\n",
    "classes[80:100] = 4\n",
    "classes = classes.astype('int')"
   ]
  },
  {
   "attachments": {},
   "cell_type": "markdown",
   "metadata": {},
   "source": [
    "## Time to learn..."
   ]
  },
  {
   "attachments": {},
   "cell_type": "markdown",
   "metadata": {},
   "source": [
    "A simple linear fully connected model"
   ]
  },
  {
   "cell_type": "code",
   "execution_count": 21,
   "metadata": {},
   "outputs": [],
   "source": [
    "class LinearModel(nn.Module):\n",
    "    def __init__(self):\n",
    "        super().__init__()\n",
    "        self.linear1 = nn.Linear(12, 100)\n",
    "        self.linear2 = nn.Linear(100, 100)\n",
    "        self.linear3 = nn.Linear(100, 5)\n",
    "\n",
    "        self.dropout = nn.Dropout(0.2)\n",
    "        self.norm1 = nn.BatchNorm1d(100)\n",
    "\n",
    "\n",
    "    def forward(self, xb):\n",
    "        out = self.linear1(xb)        \n",
    "        out = F.leaky_relu(out)\n",
    "        out = self.dropout(out)\n",
    "        out = self.norm1(out)\n",
    "        out = self.linear2(out)\n",
    "        out = F.leaky_relu(out)\n",
    "        out = self.dropout(out)\n",
    "        out = self.norm1(out)\n",
    "        out = self.linear3(out)\n",
    "        out = F.softmax(out, dim = 1)\n",
    "        return out"
   ]
  },
  {
   "cell_type": "code",
   "execution_count": 22,
   "metadata": {},
   "outputs": [],
   "source": [
    "model = LinearModel()\n",
    "\n",
    "scaler = StandardScaler().fit(features)\n",
    "\n",
    "features_scaled = scaler.transform(features)\n",
    "features_scaled, classes = shuffle(features_scaled, classes, random_state=42)\n",
    "X_train, X_val, y_train, y_val = train_test_split(features_scaled, classes, test_size=0.2, random_state=42)\n",
    "\n",
    "X_train = torch.tensor(features_scaled, dtype=torch.float32)\n",
    "y_train = torch.tensor(classes, dtype=torch.long)\n",
    "\n",
    "X_val = torch.tensor(X_val, dtype=torch.float32)\n",
    "y_val = torch.tensor(y_val, dtype=torch.long)"
   ]
  },
  {
   "cell_type": "code",
   "execution_count": 23,
   "metadata": {},
   "outputs": [
    {
     "name": "stdout",
     "output_type": "stream",
     "text": [
      "Epoch [1/50], Loss: 1.6096, accuracy: 0.2500\n",
      "Epoch [2/50], Loss: 1.5290, accuracy: 0.5000\n",
      "Epoch [3/50], Loss: 1.5115, accuracy: 0.4500\n",
      "Epoch [4/50], Loss: 1.4481, accuracy: 0.5500\n",
      "Epoch [5/50], Loss: 1.4148, accuracy: 0.6500\n",
      "Epoch [6/50], Loss: 1.3905, accuracy: 0.6000\n",
      "Epoch [7/50], Loss: 1.3287, accuracy: 0.8500\n",
      "Epoch [8/50], Loss: 1.2745, accuracy: 0.7500\n",
      "Epoch [9/50], Loss: 1.2723, accuracy: 0.8000\n",
      "Epoch [10/50], Loss: 1.2554, accuracy: 0.8000\n",
      "Epoch [11/50], Loss: 1.2155, accuracy: 0.9000\n",
      "Epoch [12/50], Loss: 1.1782, accuracy: 0.9500\n",
      "Epoch [13/50], Loss: 1.2160, accuracy: 0.8000\n",
      "Epoch [14/50], Loss: 1.1535, accuracy: 0.9000\n",
      "Epoch [15/50], Loss: 1.1532, accuracy: 0.9000\n",
      "Epoch [16/50], Loss: 1.1424, accuracy: 0.9000\n",
      "Epoch [17/50], Loss: 1.1011, accuracy: 0.9500\n",
      "Epoch [18/50], Loss: 1.1577, accuracy: 0.9500\n",
      "Epoch [19/50], Loss: 1.0853, accuracy: 0.9500\n",
      "Epoch [20/50], Loss: 1.0783, accuracy: 0.9500\n",
      "Epoch [21/50], Loss: 1.0859, accuracy: 0.9500\n",
      "Epoch [22/50], Loss: 1.0738, accuracy: 0.9500\n",
      "Epoch [23/50], Loss: 1.0635, accuracy: 1.0000\n",
      "Epoch [24/50], Loss: 1.0503, accuracy: 1.0000\n",
      "Epoch [25/50], Loss: 1.0356, accuracy: 0.9500\n",
      "Epoch [26/50], Loss: 1.0410, accuracy: 0.9500\n",
      "Epoch [27/50], Loss: 1.0586, accuracy: 1.0000\n",
      "Epoch [28/50], Loss: 1.0477, accuracy: 0.9500\n",
      "Epoch [29/50], Loss: 1.0504, accuracy: 0.9500\n",
      "Epoch [30/50], Loss: 1.0447, accuracy: 0.9500\n",
      "Epoch [31/50], Loss: 1.0353, accuracy: 0.9500\n",
      "Epoch [32/50], Loss: 1.0343, accuracy: 0.9000\n",
      "Epoch [33/50], Loss: 1.0238, accuracy: 0.9500\n",
      "Epoch [34/50], Loss: 1.0190, accuracy: 0.9500\n",
      "Epoch [35/50], Loss: 0.9984, accuracy: 1.0000\n",
      "Epoch [36/50], Loss: 1.0361, accuracy: 0.9500\n",
      "Epoch [37/50], Loss: 1.0338, accuracy: 0.8500\n",
      "Epoch [38/50], Loss: 1.0006, accuracy: 1.0000\n",
      "Epoch [39/50], Loss: 0.9937, accuracy: 1.0000\n",
      "Epoch [40/50], Loss: 1.0205, accuracy: 1.0000\n",
      "Epoch [41/50], Loss: 1.0160, accuracy: 0.9500\n",
      "Epoch [42/50], Loss: 1.0196, accuracy: 0.9500\n",
      "Epoch [43/50], Loss: 0.9812, accuracy: 1.0000\n",
      "Epoch [44/50], Loss: 0.9937, accuracy: 1.0000\n",
      "Epoch [45/50], Loss: 0.9720, accuracy: 1.0000\n",
      "Epoch [46/50], Loss: 0.9994, accuracy: 1.0000\n",
      "Epoch [47/50], Loss: 0.9673, accuracy: 1.0000\n",
      "Epoch [48/50], Loss: 0.9709, accuracy: 1.0000\n",
      "Epoch [49/50], Loss: 0.9767, accuracy: 0.9500\n",
      "Epoch [50/50], Loss: 0.9764, accuracy: 1.0000\n"
     ]
    }
   ],
   "source": [
    "epochs = 50\n",
    "learning_rate = 0.001\n",
    "optimizer = torch.optim.Adam(model.parameters(), lr = learning_rate)\n",
    "loss_fn = F.cross_entropy\n",
    "val_loss, total, val_acc = evaluate(model, loss_fn, X_val, y_val, metric = accuracy)\n",
    "fit2(epochs, model, loss_fn, optimizer, X_train, y_train, X_val, y_val, metric = accuracy)"
   ]
  },
  {
   "cell_type": "code",
   "execution_count": 24,
   "metadata": {},
   "outputs": [],
   "source": [
    "def tensor_to_numpy(tensor):\n",
    "    return tensor.cpu().detach().numpy()"
   ]
  },
  {
   "cell_type": "code",
   "execution_count": 25,
   "metadata": {},
   "outputs": [
    {
     "data": {
      "text/plain": [
       "Text(0.5, 1.0, 'Prediction on val set for ada LR 10D. 100% accuracy')"
      ]
     },
     "execution_count": 25,
     "metadata": {},
     "output_type": "execute_result"
    },
    {
     "data": {
      "image/png": "[encoded data removed]",
      "text/plain": [
       "<Figure size 640x480 with 1 Axes>"
      ]
     },
     "metadata": {},
     "output_type": "display_data"
    }
   ],
   "source": [
    "_, preds = torch.max(model(X_val), dim = 1)\n",
    "val_acc = (preds == y_val).sum().item()/len(y_val)\n",
    "y_val_preds = preds\n",
    "plt.hist(tensor_to_numpy(y_val_preds), bins=5)\n",
    "plt.xticks([0,1,2,3,4])\n",
    "plt.yticks([0, 2, 4, 6, 8])\n",
    "plt.xlabel('Classes (0: healthy, 1: myocardial infarction, 2: dilated cardiomyopathy, 3: hypertrophic cardiomyopathy, 4: arrhythmogenic right ventricular dysplasia)')\n",
    "plt.ylabel('Frequency')\n",
    "plt.title(\"Prediction on val set for ada LR 10D. {:.0f}% accuracy\".format(val_acc*100))"
   ]
  },
  {
   "attachments": {},
   "cell_type": "markdown",
   "metadata": {},
   "source": [
    "## Now let us test that model on the test dataset"
   ]
  },
  {
   "cell_type": "code",
   "execution_count": 26,
   "metadata": {},
   "outputs": [],
   "source": [
    "test_features = np.zeros((50, 12))"
   ]
  },
  {
   "cell_type": "code",
   "execution_count": 27,
   "metadata": {},
   "outputs": [],
   "source": [
    "test_subject_list1 = load_filled_test_dataset()\n",
    "test_subject_list = load_test_dataset()\n",
    "\n",
    "volumes_1_ed = []\n",
    "volumes_2_ed = []\n",
    "volumes_3_ed = []\n",
    "\n",
    "volumes_1_es = []\n",
    "volumes_2_es = []\n",
    "volumes_3_es = []\n",
    "\n",
    "spacings_test = np.zeros((50))\n",
    "   \n",
    "for i in range(0, 50):\n",
    "    subject1 = test_subject_list1[i]\n",
    "\n",
    "    subject_ed = test_subject_list[i].ed_seg.data.numpy()[0]\n",
    "    ed_view = subject1.ed_seg\n",
    "\n",
    "    sum_volumes = get_volume(ed_view, 0) + get_volume(ed_view, 1) + get_volume(ed_view, 2) + int((lv_volume(subject_ed == 2)).sum())\n",
    "    volumes_1_ed.append(get_volume(ed_view, 1)/sum_volumes)\n",
    "    volumes_2_ed.append(get_volume(ed_view, 2)/sum_volumes)\n",
    "    volumes_3_ed.append(int((lv_volume(subject_ed == 2)).sum())/sum_volumes)\n",
    "\n",
    "    subject_es = test_subject_list[i].es_seg.data.numpy()[0]\n",
    "    es_view = subject1.es_seg\n",
    "\n",
    "    sum_volumes = get_volume(es_view, 0) + get_volume(es_view, 1) + get_volume(es_view, 2) + int((lv_volume(subject_es == 2)).sum())\n",
    "    volumes_1_es.append(get_volume(es_view, 1)/sum_volumes)\n",
    "    volumes_2_es.append(get_volume(es_view, 2)/sum_volumes)\n",
    "    volumes_3_es.append(int((lv_volume(subject_es == 2)).sum())/sum_volumes)\n",
    "\n",
    "\n",
    "volumes_1_ed = np.array([volumes_1_ed]).flatten()\n",
    "volumes_2_ed = np.array([volumes_2_ed]).flatten()\n",
    "volumes_3_ed = np.array([volumes_3_ed]).flatten()\n",
    "\n",
    "volumes_1_es = np.array([volumes_1_es]).flatten()\n",
    "volumes_2_es = np.array([volumes_2_es]).flatten()\n",
    "volumes_3_es = np.array([volumes_3_es]).flatten()\n",
    "\n",
    "\n",
    "ejection_fraction_right = (volumes_1_ed - volumes_1_es) / volumes_1_ed\n",
    "ejection_fraction_left = (volumes_3_ed - volumes_3_es) / volumes_3_ed\n",
    "\n",
    "\n",
    "ratioRL_ed = volumes_3_ed / volumes_1_ed\n",
    "ratioRL_es = volumes_3_es / volumes_1_es\n",
    "\n",
    "ratioML_ed = volumes_2_ed / volumes_1_ed\n",
    "ratioML_es = volumes_2_es / volumes_1_es\n",
    "\n",
    "\n",
    "for i, new_col in enumerate([ratioRL_ed[:], ratioRL_es[:], ratioML_ed[:], ratioML_es[:], ejection_fraction_right[:], volumes_1_ed[:], volumes_2_ed[:], volumes_3_ed[:], ejection_fraction_left[:], volumes_1_es[:], volumes_2_es[:], volumes_3_es[:]]):\n",
    "    test_features[:,i] = new_col"
   ]
  },
  {
   "attachments": {},
   "cell_type": "markdown",
   "metadata": {},
   "source": [
    "We can now predict"
   ]
  },
  {
   "cell_type": "code",
   "execution_count": 28,
   "metadata": {},
   "outputs": [
    {
     "data": {
      "text/plain": [
       "Text(0, 0.5, 'Frequency')"
      ]
     },
     "execution_count": 28,
     "metadata": {},
     "output_type": "execute_result"
    },
    {
     "data": {
      "image/png": "[encoded data removed]",
      "text/plain": [
       "<Figure size 640x480 with 1 Axes>"
      ]
     },
     "metadata": {},
     "output_type": "display_data"
    }
   ],
   "source": [
    "test_features_scaled = scaler.transform(test_features)\n",
    "\n",
    "X_test = torch.tensor(test_features_scaled, dtype=torch.float32)\n",
    "\n",
    "test_preds = model(X_test)\n",
    "test_preds = torch.max(test_preds, dim = 1)[1]\n",
    "test_preds = tensor_to_numpy(test_preds)\n",
    "\n",
    "plt.hist(np.array(test_preds), bins=5)\n",
    "plt.xticks([0,1,2,3,4])\n",
    "plt.xlabel('Classes (0: healthy, 1: myocardial infarction, 2: dilated cardiomyopathy, 3: hypertrophic cardiomyopathy, 4: arrhythmogenic right ventricular dysplasia)')\n",
    "plt.ylabel('Frequency')\n"
   ]
  },
  {
   "attachments": {},
   "cell_type": "markdown",
   "metadata": {},
   "source": [
    "And write down for submission"
   ]
  },
  {
   "cell_type": "code",
   "execution_count": 29,
   "metadata": {},
   "outputs": [
    {
     "data": {
      "text/plain": [
       "array([2, 4, 0, 3, 4, 1, 0, 0, 4, 4, 3, 3, 0, 0, 0, 4, 2, 3, 1, 0, 4, 0,\n",
       "       3, 3, 1, 2, 1, 4, 2, 4, 1, 4, 3, 2, 0, 3, 1, 3, 1, 0, 2, 1, 2, 1,\n",
       "       4, 2, 0, 1, 1, 1], dtype=int64)"
      ]
     },
     "execution_count": 29,
     "metadata": {},
     "output_type": "execute_result"
    }
   ],
   "source": [
    "test_preds"
   ]
  },
  {
   "cell_type": "code",
   "execution_count": 30,
   "metadata": {},
   "outputs": [],
   "source": [
    "df = pd.read_csv(\"../SampleSubmission.csv\")\n",
    "df.iloc[:, 1] = test_preds\n",
    "df.to_csv(\"../SampleSubmission.csv\", index=False)"
   ]
  }
 ],
 "metadata": {
  "kernelspec": {
   "display_name": "Python 3",
   "language": "python",
   "name": "python3"
  },
  "language_info": {
   "codemirror_mode": {
    "name": "ipython",
    "version": 3
   },
   "file_extension": ".py",
   "mimetype": "text/x-python",
   "name": "python",
   "nbconvert_exporter": "python",
   "pygments_lexer": "ipython3",
   "version": "3.10.9"
  },
  "orig_nbformat": 4
 },
 "nbformat": 4,
 "nbformat_minor": 2
}
