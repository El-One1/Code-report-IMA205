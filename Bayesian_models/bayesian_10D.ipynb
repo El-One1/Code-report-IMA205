{
 "cells": [
  {
   "attachments": {},
   "cell_type": "markdown",
   "metadata": {},
   "source": [
    "# BAYESIAN 10D"
   ]
  },
  {
   "cell_type": "code",
   "execution_count": 2,
   "metadata": {},
   "outputs": [],
   "source": [
    "import numpy as np\n",
    "from matplotlib import pyplot as plt\n",
    "import pandas as pd\n",
    "\n",
    "import torchio as tio\n",
    "from torch.utils.data import DataLoader\n",
    "\n",
    "from functions import *"
   ]
  },
  {
   "cell_type": "code",
   "execution_count": 3,
   "metadata": {},
   "outputs": [
    {
     "data": {
      "text/html": [
       "<div>\n",
       "<style scoped>\n",
       "    .dataframe tbody tr th:only-of-type {\n",
       "        vertical-align: middle;\n",
       "    }\n",
       "\n",
       "    .dataframe tbody tr th {\n",
       "        vertical-align: top;\n",
       "    }\n",
       "\n",
       "    .dataframe thead th {\n",
       "        text-align: right;\n",
       "    }\n",
       "</style>\n",
       "<table border=\"1\" class=\"dataframe\">\n",
       "  <thead>\n",
       "    <tr style=\"text-align: right;\">\n",
       "      <th></th>\n",
       "      <th>Id</th>\n",
       "      <th>Category</th>\n",
       "      <th>Height</th>\n",
       "      <th>Weight</th>\n",
       "      <th>ed_maxmean</th>\n",
       "      <th>ed_stdmean</th>\n",
       "      <th>ed_meanstd</th>\n",
       "      <th>ed_std_std</th>\n",
       "      <th>ed_mean</th>\n",
       "      <th>ed_max</th>\n",
       "      <th>es_maxmean</th>\n",
       "      <th>es_stdmean</th>\n",
       "      <th>es_meanstd</th>\n",
       "      <th>es_std_std</th>\n",
       "      <th>es_mean</th>\n",
       "      <th>es_max</th>\n",
       "    </tr>\n",
       "  </thead>\n",
       "  <tbody>\n",
       "    <tr>\n",
       "      <th>0</th>\n",
       "      <td>1</td>\n",
       "      <td>2</td>\n",
       "      <td>184.0</td>\n",
       "      <td>95.0</td>\n",
       "      <td>3.881778</td>\n",
       "      <td>0.916004</td>\n",
       "      <td>0.920320</td>\n",
       "      <td>0.199097</td>\n",
       "      <td>2.545188</td>\n",
       "      <td>5.656854</td>\n",
       "      <td>5.289519</td>\n",
       "      <td>1.064626</td>\n",
       "      <td>1.202439</td>\n",
       "      <td>0.326654</td>\n",
       "      <td>3.624038</td>\n",
       "      <td>8.000000</td>\n",
       "    </tr>\n",
       "    <tr>\n",
       "      <th>1</th>\n",
       "      <td>2</td>\n",
       "      <td>2</td>\n",
       "      <td>160.0</td>\n",
       "      <td>70.0</td>\n",
       "      <td>4.137292</td>\n",
       "      <td>0.951956</td>\n",
       "      <td>1.304753</td>\n",
       "      <td>0.373236</td>\n",
       "      <td>2.905463</td>\n",
       "      <td>8.485281</td>\n",
       "      <td>6.650502</td>\n",
       "      <td>1.521224</td>\n",
       "      <td>1.501470</td>\n",
       "      <td>0.356065</td>\n",
       "      <td>4.255417</td>\n",
       "      <td>12.000000</td>\n",
       "    </tr>\n",
       "    <tr>\n",
       "      <th>2</th>\n",
       "      <td>3</td>\n",
       "      <td>2</td>\n",
       "      <td>165.0</td>\n",
       "      <td>77.0</td>\n",
       "      <td>4.699254</td>\n",
       "      <td>0.956888</td>\n",
       "      <td>1.153515</td>\n",
       "      <td>0.268412</td>\n",
       "      <td>2.920028</td>\n",
       "      <td>7.810250</td>\n",
       "      <td>5.249486</td>\n",
       "      <td>1.138900</td>\n",
       "      <td>1.255835</td>\n",
       "      <td>0.432014</td>\n",
       "      <td>3.278909</td>\n",
       "      <td>8.544004</td>\n",
       "    </tr>\n",
       "    <tr>\n",
       "      <th>3</th>\n",
       "      <td>4</td>\n",
       "      <td>2</td>\n",
       "      <td>159.0</td>\n",
       "      <td>46.0</td>\n",
       "      <td>5.146465</td>\n",
       "      <td>1.231963</td>\n",
       "      <td>1.116522</td>\n",
       "      <td>0.123642</td>\n",
       "      <td>3.261632</td>\n",
       "      <td>7.810250</td>\n",
       "      <td>5.310376</td>\n",
       "      <td>1.204373</td>\n",
       "      <td>1.337397</td>\n",
       "      <td>0.296933</td>\n",
       "      <td>3.596841</td>\n",
       "      <td>8.944272</td>\n",
       "    </tr>\n",
       "    <tr>\n",
       "      <th>4</th>\n",
       "      <td>5</td>\n",
       "      <td>2</td>\n",
       "      <td>165.0</td>\n",
       "      <td>77.0</td>\n",
       "      <td>5.100857</td>\n",
       "      <td>1.161749</td>\n",
       "      <td>1.368049</td>\n",
       "      <td>0.339034</td>\n",
       "      <td>3.480619</td>\n",
       "      <td>8.062258</td>\n",
       "      <td>7.875007</td>\n",
       "      <td>2.089008</td>\n",
       "      <td>1.396219</td>\n",
       "      <td>0.276128</td>\n",
       "      <td>5.113233</td>\n",
       "      <td>12.041595</td>\n",
       "    </tr>\n",
       "  </tbody>\n",
       "</table>\n",
       "</div>"
      ],
      "text/plain": [
       "   Id  Category  Height  Weight  ed_maxmean  ed_stdmean  ed_meanstd  \\\n",
       "0   1         2   184.0    95.0    3.881778    0.916004    0.920320   \n",
       "1   2         2   160.0    70.0    4.137292    0.951956    1.304753   \n",
       "2   3         2   165.0    77.0    4.699254    0.956888    1.153515   \n",
       "3   4         2   159.0    46.0    5.146465    1.231963    1.116522   \n",
       "4   5         2   165.0    77.0    5.100857    1.161749    1.368049   \n",
       "\n",
       "   ed_std_std   ed_mean    ed_max  es_maxmean  es_stdmean  es_meanstd  \\\n",
       "0    0.199097  2.545188  5.656854    5.289519    1.064626    1.202439   \n",
       "1    0.373236  2.905463  8.485281    6.650502    1.521224    1.501470   \n",
       "2    0.268412  2.920028  7.810250    5.249486    1.138900    1.255835   \n",
       "3    0.123642  3.261632  7.810250    5.310376    1.204373    1.337397   \n",
       "4    0.339034  3.480619  8.062258    7.875007    2.089008    1.396219   \n",
       "\n",
       "   es_std_std   es_mean     es_max  \n",
       "0    0.326654  3.624038   8.000000  \n",
       "1    0.356065  4.255417  12.000000  \n",
       "2    0.432014  3.278909   8.544004  \n",
       "3    0.296933  3.596841   8.944272  \n",
       "4    0.276128  5.113233  12.041595  "
      ]
     },
     "execution_count": 3,
     "metadata": {},
     "output_type": "execute_result"
    }
   ],
   "source": [
    "metaData = pd.read_csv('../metaDataTrain.csv')\n",
    "metaDataClean = metaData.iloc\n",
    "metaData.head()"
   ]
  },
  {
   "cell_type": "code",
   "execution_count": 4,
   "metadata": {},
   "outputs": [],
   "source": [
    "subject_9 = tio.Subject(\n",
    "    ed=tio.ScalarImage('../Train/009/009_ED.nii'),\n",
    "    es = tio.ScalarImage('../Train/009/009_ES.nii'),\n",
    "    ed_seg=tio.ScalarImage('../Train/009/009_ED_seg.nii'),\n",
    "    es_seg = tio.ScalarImage('../Train/009/009_ES_seg.nii'),\n",
    "    diagnosis=metaDataClean[9][1],\n",
    ")"
   ]
  },
  {
   "cell_type": "code",
   "execution_count": 5,
   "metadata": {},
   "outputs": [
    {
     "data": {
      "text/plain": [
       "2"
      ]
     },
     "execution_count": 5,
     "metadata": {},
     "output_type": "execute_result"
    }
   ],
   "source": [
    "subject_list = load_training_dataset(metaDataClean)\n",
    "subject_list[10].diagnosis"
   ]
  },
  {
   "cell_type": "code",
   "execution_count": 6,
   "metadata": {},
   "outputs": [
    {
     "data": {
      "text/plain": [
       "Id              1.000000\n",
       "Category        2.000000\n",
       "Height        184.000000\n",
       "Weight         95.000000\n",
       "ed_maxmean      3.881778\n",
       "ed_stdmean      0.916004\n",
       "ed_meanstd      0.920320\n",
       "ed_std_std      0.199097\n",
       "ed_mean         2.545188\n",
       "ed_max          5.656854\n",
       "es_maxmean      5.289519\n",
       "es_stdmean      1.064626\n",
       "es_meanstd      1.202439\n",
       "es_std_std      0.326654\n",
       "es_mean         3.624038\n",
       "es_max          8.000000\n",
       "Name: 0, dtype: float64"
      ]
     },
     "execution_count": 6,
     "metadata": {},
     "output_type": "execute_result"
    }
   ],
   "source": [
    "metaDataClean[0]"
   ]
  },
  {
   "attachments": {},
   "cell_type": "markdown",
   "metadata": {},
   "source": [
    "## First approach: just use Height and Weight to predict the class"
   ]
  },
  {
   "attachments": {},
   "cell_type": "markdown",
   "metadata": {},
   "source": [
    "Create the vector of features for each class"
   ]
  },
  {
   "cell_type": "code",
   "execution_count": 7,
   "metadata": {},
   "outputs": [],
   "source": [
    "healthy_features = np.zeros((20, 10))  ## there are 10 features and 20 subjects per training class\n",
    "myocardial_infarction_features = np.zeros((20, 10))\n",
    "dilated_cardiomyopathy_features = np.zeros((20, 10))\n",
    "hypertrophic_cardiomyopathy_features = np.zeros((20, 10))\n",
    "arrhythmogenic_right_ventricular_dysplasia_features = np.zeros((20, 10))"
   ]
  },
  {
   "attachments": {},
   "cell_type": "markdown",
   "metadata": {},
   "source": [
    "First extract the data contained in the metaData.csv file"
   ]
  },
  {
   "cell_type": "code",
   "execution_count": 8,
   "metadata": {},
   "outputs": [],
   "source": [
    "healthy_metadata = select_lines_where_class_value_is_X(metaDataClean, 0).iloc\n",
    "myocardial_infarction_metadata = select_lines_where_class_value_is_X(metaDataClean, 1).iloc\n",
    "dilated_cardiomyopathy_metadata = select_lines_where_class_value_is_X(metaDataClean, 2).iloc\n",
    "hypertrophic_cardiomyopathy_metadata = select_lines_where_class_value_is_X(metaDataClean, 3).iloc\n",
    "arrhythmogenic_right_ventricular_dysplasia_metadata = select_lines_where_class_value_is_X(metaDataClean, 4).iloc\n",
    "\n",
    "healthy_metadata = select_row_x_and_y_from_table(healthy_metadata, 2, 3)\n",
    "myocardial_infarction_metadata = select_row_x_and_y_from_table(myocardial_infarction_metadata, 2, 3)\n",
    "dilated_cardiomyopathy_metadata = select_row_x_and_y_from_table(dilated_cardiomyopathy_metadata, 2, 3)\n",
    "hypertrophic_cardiomyopathy_metadata = select_row_x_and_y_from_table(hypertrophic_cardiomyopathy_metadata, 2, 3)\n",
    "arrhythmogenic_right_ventricular_dysplasia_metadata = select_row_x_and_y_from_table(arrhythmogenic_right_ventricular_dysplasia_metadata, 2, 3)\n",
    "\n",
    "## adding into features vectors\n",
    "healthy_features[:,:2] = healthy_metadata\n",
    "myocardial_infarction_features[:,:2] = myocardial_infarction_metadata\n",
    "dilated_cardiomyopathy_features[:,:2] = dilated_cardiomyopathy_metadata\n",
    "hypertrophic_cardiomyopathy_features[:,:2] = hypertrophic_cardiomyopathy_metadata\n",
    "arrhythmogenic_right_ventricular_dysplasia_features[:,:2] = arrhythmogenic_right_ventricular_dysplasia_metadata"
   ]
  },
  {
   "attachments": {},
   "cell_type": "markdown",
   "metadata": {},
   "source": [
    "We then extract the data we want from the dataset. In this notebook, we will only extract the volumes of various areas provided by the segmentation in place."
   ]
  },
  {
   "cell_type": "code",
   "execution_count": 9,
   "metadata": {},
   "outputs": [],
   "source": [
    "healthy_indices = np.where(metaDataClean[:,1].astype('int') == 0)\n",
    "myocardial_infarction_indices = np.where(metaDataClean[:,1].astype('int') == 1)\n",
    "dilated_cardiomyopathy_indices = np.where(metaDataClean[:,1].astype('int') == 2)\n",
    "hypertrophic_cardiomyopathy_indices = np.where(metaDataClean[:,1].astype('int') == 3)\n",
    "arrhythmogenic_right_ventricular_dysplasia_indices = np.where(metaDataClean[:,1].astype('int') == 4)\n"
   ]
  },
  {
   "cell_type": "code",
   "execution_count": 10,
   "metadata": {},
   "outputs": [],
   "source": [
    "volumes_0_ed = []\n",
    "volumes_1_ed = []\n",
    "volumes_2_ed = []\n",
    "volumes_3_ed = []\n",
    "\n",
    "volumes_0_es = []\n",
    "volumes_1_es = []\n",
    "volumes_2_es = []\n",
    "volumes_3_es = []\n",
    "   \n",
    "for i in range(0, 100):\n",
    "    subject = subject_list[i]\n",
    "    \n",
    "    ed_view = subject.ed_seg\n",
    "    volumes_0_ed.append(get_volume(ed_view, 0))\n",
    "    volumes_1_ed.append(get_volume(ed_view, 1))\n",
    "    volumes_2_ed.append(get_volume(ed_view, 2))\n",
    "    volumes_3_ed.append(get_volume(ed_view, 3))\n",
    "\n",
    "    es_view = subject.es_seg\n",
    "    volumes_0_es.append(get_volume(es_view, 0))\n",
    "    volumes_1_es.append(get_volume(es_view, 1))\n",
    "    volumes_2_es.append(get_volume(es_view, 2))\n",
    "    volumes_3_es.append(get_volume(es_view, 3))\n",
    "\n",
    "volumes_0_ed = np.array([volumes_0_ed]).flatten()\n",
    "volumes_1_ed = np.array([volumes_1_ed]).flatten()\n",
    "volumes_2_ed = np.array([volumes_2_ed]).flatten()\n",
    "volumes_3_ed = np.array([volumes_3_ed]).flatten()\n",
    "\n",
    "volumes_0_es = np.array([volumes_0_es]).flatten()\n",
    "volumes_1_es = np.array([volumes_1_es]).flatten()\n",
    "volumes_2_es = np.array([volumes_2_es]).flatten()\n",
    "volumes_3_es = np.array([volumes_3_es]).flatten()"
   ]
  },
  {
   "cell_type": "code",
   "execution_count": 11,
   "metadata": {},
   "outputs": [],
   "source": [
    "mean_0_ed, std_0_ed = np.mean(volumes_0_ed), np.std(volumes_0_ed)\n",
    "mean_1_ed, std_1_ed = np.mean(volumes_1_ed), np.std(volumes_1_ed)\n",
    "mean_2_ed, std_2_ed = np.mean(volumes_2_ed), np.std(volumes_2_ed)\n",
    "mean_3_ed, std_3_ed = np.mean(volumes_3_ed), np.std(volumes_3_ed)\n",
    "\n",
    "mean_0_es, std_0_es = np.mean(volumes_0_es), np.std(volumes_0_es)\n",
    "mean_1_es, std_1_es = np.mean(volumes_1_es), np.std(volumes_1_es)\n",
    "mean_2_es, std_2_es = np.mean(volumes_2_es), np.std(volumes_2_es)\n",
    "mean_3_es, std_3_es = np.mean(volumes_3_es), np.std(volumes_3_es)\n",
    "\n",
    "volumes_0_ed = (volumes_0_ed - mean_0_ed) / std_0_ed\n",
    "volumes_1_ed = (volumes_1_ed - mean_1_ed) / std_1_ed\n",
    "volumes_2_ed = (volumes_2_ed - mean_2_ed) / std_2_ed\n",
    "volumes_3_ed = (volumes_3_ed - mean_3_ed) / std_3_ed\n",
    "\n",
    "volumes_0_es = (volumes_0_es - mean_0_es) / std_0_es\n",
    "volumes_1_es = (volumes_1_es - mean_1_es) / std_1_es\n",
    "volumes_2_es = (volumes_2_es - mean_2_es) / std_2_es\n",
    "volumes_3_es = (volumes_3_es - mean_3_es) / std_3_es\n",
    "\n",
    "\n",
    "for i, new_col in enumerate([volumes_0_ed[healthy_indices], volumes_1_ed[healthy_indices], volumes_2_ed[healthy_indices], volumes_3_ed[healthy_indices], volumes_0_es[healthy_indices], volumes_1_es[healthy_indices], volumes_2_es[healthy_indices], volumes_3_es[healthy_indices]]):\n",
    "    healthy_features[:,i+2] = new_col\n",
    "\n",
    "for i, new_col in enumerate([volumes_0_ed[myocardial_infarction_indices], volumes_1_ed[myocardial_infarction_indices], volumes_2_ed[myocardial_infarction_indices], volumes_3_ed[myocardial_infarction_indices], volumes_0_es[myocardial_infarction_indices], volumes_1_es[myocardial_infarction_indices], volumes_2_es[myocardial_infarction_indices], volumes_3_es[myocardial_infarction_indices]]):\n",
    "    myocardial_infarction_features[:,i+2] = new_col\n",
    "\n",
    "for i, new_col in enumerate([volumes_0_ed[dilated_cardiomyopathy_indices], volumes_1_ed[dilated_cardiomyopathy_indices], volumes_2_ed[dilated_cardiomyopathy_indices], volumes_3_ed[dilated_cardiomyopathy_indices], volumes_0_es[dilated_cardiomyopathy_indices], volumes_1_es[dilated_cardiomyopathy_indices], volumes_2_es[dilated_cardiomyopathy_indices], volumes_3_es[dilated_cardiomyopathy_indices]]):\n",
    "    dilated_cardiomyopathy_features[:,i+2] = new_col\n",
    "\n",
    "for i, new_col in enumerate([volumes_0_ed[hypertrophic_cardiomyopathy_indices], volumes_1_ed[hypertrophic_cardiomyopathy_indices], volumes_2_ed[hypertrophic_cardiomyopathy_indices], volumes_3_ed[hypertrophic_cardiomyopathy_indices], volumes_0_es[hypertrophic_cardiomyopathy_indices], volumes_1_es[hypertrophic_cardiomyopathy_indices], volumes_2_es[hypertrophic_cardiomyopathy_indices], volumes_3_es[hypertrophic_cardiomyopathy_indices]]):\n",
    "    hypertrophic_cardiomyopathy_features[:,i+2] = new_col\n",
    "\n",
    "for i, new_col in enumerate([volumes_0_ed[arrhythmogenic_right_ventricular_dysplasia_indices], volumes_1_ed[arrhythmogenic_right_ventricular_dysplasia_indices], volumes_2_ed[arrhythmogenic_right_ventricular_dysplasia_indices], volumes_3_ed[arrhythmogenic_right_ventricular_dysplasia_indices], volumes_0_es[arrhythmogenic_right_ventricular_dysplasia_indices], volumes_1_es[arrhythmogenic_right_ventricular_dysplasia_indices], volumes_2_es[arrhythmogenic_right_ventricular_dysplasia_indices], volumes_3_es[arrhythmogenic_right_ventricular_dysplasia_indices]]):\n",
    "    arrhythmogenic_right_ventricular_dysplasia_features[:,i+2] = new_col"
   ]
  },
  {
   "cell_type": "code",
   "execution_count": 12,
   "metadata": {},
   "outputs": [],
   "source": [
    "healthy_mean, healthy_cov = compute_mean_and_covariance_matrix(healthy_features)\n",
    "myocardial_infarction_mean, myocardial_infarction_cov = compute_mean_and_covariance_matrix(myocardial_infarction_features)\n",
    "dilated_cardiomyopathy_mean, dilated_cardiomyopathy_cov = compute_mean_and_covariance_matrix(dilated_cardiomyopathy_features)\n",
    "hypertrophic_cardiomyopathy_mean, hypertrophic_cardiomyopathy_cov = compute_mean_and_covariance_matrix(hypertrophic_cardiomyopathy_features)\n",
    "arrhythmogenic_right_ventricular_dysplasia_mean, arrhythmogenic_right_ventricular_dysplasia_cov = compute_mean_and_covariance_matrix(arrhythmogenic_right_ventricular_dysplasia_features)"
   ]
  },
  {
   "cell_type": "code",
   "execution_count": 13,
   "metadata": {},
   "outputs": [],
   "source": [
    "preds = np.zeros((metaDataClean[:].shape[0]))\n",
    "\n",
    "for i in range(metaDataClean[:].shape[0]):\n",
    "    \n",
    "    if 0<= i <= 19:\n",
    "        healthy_preds = stats.multivariate_normal.pdf(healthy_features[i], mean = healthy_mean, cov = healthy_cov, allow_singular=True)\n",
    "        myocardial_preds = stats.multivariate_normal.pdf(healthy_features[i], mean = myocardial_infarction_mean, cov = myocardial_infarction_cov, allow_singular=True)\n",
    "        dilated_cardiomyopathy_preds = stats.multivariate_normal.pdf(healthy_features[i], mean = dilated_cardiomyopathy_mean, cov = dilated_cardiomyopathy_cov, allow_singular=True)\n",
    "        hypertrophic_cardiomyopathy_preds = stats.multivariate_normal.pdf(healthy_features[i], mean = hypertrophic_cardiomyopathy_mean, cov = hypertrophic_cardiomyopathy_cov, allow_singular=True)\n",
    "        arrhythmogenic_right_ventricular_dysplasia_preds = stats.multivariate_normal.pdf(healthy_features[i], mean = arrhythmogenic_right_ventricular_dysplasia_mean, cov = arrhythmogenic_right_ventricular_dysplasia_cov, allow_singular=True)  \n",
    "        preds[i]= np.argmax([healthy_preds, myocardial_preds, dilated_cardiomyopathy_preds, hypertrophic_cardiomyopathy_preds, arrhythmogenic_right_ventricular_dysplasia_preds])\n",
    "\n",
    "    elif 20<= i <= 39:\n",
    "        healthy_preds = stats.multivariate_normal.pdf(myocardial_infarction_features[i-20], mean = healthy_mean, cov = healthy_cov, allow_singular=True)\n",
    "        myocardial_preds = stats.multivariate_normal.pdf(myocardial_infarction_features[i-20], mean = myocardial_infarction_mean, cov = myocardial_infarction_cov, allow_singular=True)\n",
    "        dilated_cardiomyopathy_preds = stats.multivariate_normal.pdf(myocardial_infarction_features[i-20], mean = dilated_cardiomyopathy_mean, cov = dilated_cardiomyopathy_cov, allow_singular=True)\n",
    "        hypertrophic_cardiomyopathy_preds = stats.multivariate_normal.pdf(myocardial_infarction_features[i-20], mean = hypertrophic_cardiomyopathy_mean, cov = hypertrophic_cardiomyopathy_cov, allow_singular=True)\n",
    "        arrhythmogenic_right_ventricular_dysplasia_preds = stats.multivariate_normal.pdf(myocardial_infarction_features[i-20], mean = arrhythmogenic_right_ventricular_dysplasia_mean, cov = arrhythmogenic_right_ventricular_dysplasia_cov, allow_singular=True)  \n",
    "        preds[i]= np.argmax([healthy_preds, myocardial_preds, dilated_cardiomyopathy_preds, hypertrophic_cardiomyopathy_preds, arrhythmogenic_right_ventricular_dysplasia_preds])\n",
    "\n",
    "    elif 40<= i <= 59:\n",
    "        healthy_preds = stats.multivariate_normal.pdf(dilated_cardiomyopathy_features[i-40], mean = healthy_mean, cov = healthy_cov, allow_singular=True)\n",
    "        myocardial_preds = stats.multivariate_normal.pdf(dilated_cardiomyopathy_features[i-40], mean = myocardial_infarction_mean, cov = myocardial_infarction_cov, allow_singular=True)\n",
    "        dilated_cardiomyopathy_preds = stats.multivariate_normal.pdf(dilated_cardiomyopathy_features[i-40], mean = dilated_cardiomyopathy_mean, cov = dilated_cardiomyopathy_cov, allow_singular=True)\n",
    "        hypertrophic_cardiomyopathy_preds = stats.multivariate_normal.pdf(dilated_cardiomyopathy_features[i-40], mean = hypertrophic_cardiomyopathy_mean, cov = hypertrophic_cardiomyopathy_cov, allow_singular=True)\n",
    "        arrhythmogenic_right_ventricular_dysplasia_preds = stats.multivariate_normal.pdf(dilated_cardiomyopathy_features[i-40], mean = arrhythmogenic_right_ventricular_dysplasia_mean, cov = arrhythmogenic_right_ventricular_dysplasia_cov, allow_singular=True)  \n",
    "        preds[i]= np.argmax([healthy_preds, myocardial_preds, dilated_cardiomyopathy_preds, hypertrophic_cardiomyopathy_preds, arrhythmogenic_right_ventricular_dysplasia_preds])\n",
    "\n",
    "    elif 60<= i <= 79:\n",
    "        healthy_preds = stats.multivariate_normal.pdf(hypertrophic_cardiomyopathy_features[i-60], mean = healthy_mean, cov = healthy_cov, allow_singular=True)\n",
    "        myocardial_preds = stats.multivariate_normal.pdf(hypertrophic_cardiomyopathy_features[i-60], mean = myocardial_infarction_mean, cov = myocardial_infarction_cov, allow_singular=True)\n",
    "        dilated_cardiomyopathy_preds = stats.multivariate_normal.pdf(hypertrophic_cardiomyopathy_features[i-60], mean = dilated_cardiomyopathy_mean, cov = dilated_cardiomyopathy_cov, allow_singular=True)\n",
    "        hypertrophic_cardiomyopathy_preds = stats.multivariate_normal.pdf(hypertrophic_cardiomyopathy_features[i-60], mean = hypertrophic_cardiomyopathy_mean, cov = hypertrophic_cardiomyopathy_cov, allow_singular=True)\n",
    "        arrhythmogenic_right_ventricular_dysplasia_preds = stats.multivariate_normal.pdf(hypertrophic_cardiomyopathy_features[i-60], mean = arrhythmogenic_right_ventricular_dysplasia_mean, cov = arrhythmogenic_right_ventricular_dysplasia_cov, allow_singular=True)  \n",
    "        preds[i]= np.argmax([healthy_preds, myocardial_preds, dilated_cardiomyopathy_preds, hypertrophic_cardiomyopathy_preds, arrhythmogenic_right_ventricular_dysplasia_preds])\n",
    "\n",
    "    elif 80<= i <= 99:\n",
    "        healthy_preds = stats.multivariate_normal.pdf(arrhythmogenic_right_ventricular_dysplasia_features[i-80], mean = healthy_mean, cov = healthy_cov, allow_singular=True)\n",
    "        myocardial_preds = stats.multivariate_normal.pdf(arrhythmogenic_right_ventricular_dysplasia_features[i-80], mean = myocardial_infarction_mean, cov = myocardial_infarction_cov, allow_singular=True)\n",
    "        dilated_cardiomyopathy_preds = stats.multivariate_normal.pdf(arrhythmogenic_right_ventricular_dysplasia_features[i-80], mean = dilated_cardiomyopathy_mean, cov = dilated_cardiomyopathy_cov, allow_singular=True)\n",
    "        hypertrophic_cardiomyopathy_preds = stats.multivariate_normal.pdf(arrhythmogenic_right_ventricular_dysplasia_features[i-80], mean = hypertrophic_cardiomyopathy_mean, cov = hypertrophic_cardiomyopathy_cov, allow_singular=True)\n",
    "        arrhythmogenic_right_ventricular_dysplasia_preds = stats.multivariate_normal.pdf(arrhythmogenic_right_ventricular_dysplasia_features[i-80], mean = arrhythmogenic_right_ventricular_dysplasia_mean, cov = arrhythmogenic_right_ventricular_dysplasia_cov, allow_singular=True)  \n",
    "        preds[i]= np.argmax([healthy_preds, myocardial_preds, dilated_cardiomyopathy_preds, hypertrophic_cardiomyopathy_preds, arrhythmogenic_right_ventricular_dysplasia_preds])\n",
    "\n",
    "gt = metaDataClean[:, 1].astype('int')\n",
    "orderded_indices = np.concatenate((healthy_indices, myocardial_infarction_indices, dilated_cardiomyopathy_indices, hypertrophic_cardiomyopathy_indices, arrhythmogenic_right_ventricular_dysplasia_indices))\n",
    "gt_orderded = [gt[i] for i in orderded_indices.flatten()]"
   ]
  },
  {
   "cell_type": "code",
   "execution_count": 14,
   "metadata": {},
   "outputs": [
    {
     "data": {
      "text/plain": [
       "Text(0.5, 1.0, 'Prediction repartition for naïve bayes 10D. 99% accuracy')"
      ]
     },
     "execution_count": 14,
     "metadata": {},
     "output_type": "execute_result"
    },
    {
     "data": {
      "image/png": "[encoded data removed]",
      "text/plain": [
       "<Figure size 640x480 with 1 Axes>"
      ]
     },
     "metadata": {},
     "output_type": "display_data"
    }
   ],
   "source": [
    "accuracynb = accuracy(preds, gt_orderded)\n",
    "plt.hist(np.array(preds), bins=5)\n",
    "plt.xticks([0,1,2,3,4])\n",
    "plt.xlabel('Classes (0: healthy, 1: myocardial infarction, 2: dilated cardiomyopathy, 3: hypertrophic cardiomyopathy, 4: arrhythmogenic right ventricular dysplasia)')\n",
    "plt.ylabel('Frequency')\n",
    "plt.title(\"Prediction repartition for naïve bayes 10D. {:.0f}% accuracy\".format(accuracynb*100))"
   ]
  },
  {
   "attachments": {},
   "cell_type": "markdown",
   "metadata": {},
   "source": [
    "## Let us compute predictions on the test set"
   ]
  },
  {
   "cell_type": "code",
   "execution_count": 15,
   "metadata": {},
   "outputs": [],
   "source": [
    "features = np.zeros((50, 10)) #50 subjects, 10 features each\n",
    "\n",
    "metaDataTest = pd.read_csv('../metaDataTest.csv') \n",
    "metaDataTestClean = metaDataTest.iloc\n",
    "\n",
    "metaDataTestClean = select_row_x_and_y_from_table(metaDataTestClean, 1, 2) #extracting height and weight\n",
    "\n",
    "## adding into features vector.\n",
    "# Order is : height, weight, volumes_0_ed, volumes_1_ed, volumes_2_ed, volumes_3_ed, volumes_0_es, volumes_1_esolumes_2_esolumes_3_es\n",
    "\n",
    "features[:,:2] = metaDataTestClean"
   ]
  },
  {
   "attachments": {},
   "cell_type": "markdown",
   "metadata": {},
   "source": [
    "Now let us stack the other features"
   ]
  },
  {
   "cell_type": "code",
   "execution_count": 16,
   "metadata": {},
   "outputs": [],
   "source": [
    "test_subject_list = load_filled_test_dataset()\n",
    "\n",
    "volumes_0_ed = []\n",
    "volumes_1_ed = []\n",
    "volumes_2_ed = []\n",
    "volumes_3_ed = []\n",
    "\n",
    "volumes_0_es = []\n",
    "volumes_1_es = []\n",
    "volumes_2_es = []\n",
    "volumes_3_es = []\n",
    "   \n",
    "for i in range(0, 50):\n",
    "    subject = test_subject_list[i]\n",
    "    \n",
    "    ed_view = subject.ed_seg\n",
    "    volumes_0_ed.append(get_volume(ed_view, 0))\n",
    "    volumes_1_ed.append(get_volume(ed_view, 1))\n",
    "    volumes_2_ed.append(get_volume(ed_view, 2))\n",
    "    volumes_3_ed.append(get_volume(ed_view, 3))\n",
    "\n",
    "    es_view = subject.es_seg\n",
    "    volumes_0_es.append(get_volume(es_view, 0))\n",
    "    volumes_1_es.append(get_volume(es_view, 1))\n",
    "    volumes_2_es.append(get_volume(es_view, 2))\n",
    "    volumes_3_es.append(get_volume(es_view, 3))\n",
    "\n",
    "volumes_0_ed = np.array([volumes_0_ed]).flatten()\n",
    "volumes_1_ed = np.array([volumes_1_ed]).flatten()\n",
    "volumes_2_ed = np.array([volumes_2_ed]).flatten()\n",
    "volumes_3_ed = np.array([volumes_3_ed]).flatten()\n",
    "\n",
    "volumes_0_es = np.array([volumes_0_es]).flatten()\n",
    "volumes_1_es = np.array([volumes_1_es]).flatten()\n",
    "volumes_2_es = np.array([volumes_2_es]).flatten()\n",
    "volumes_3_es = np.array([volumes_3_es]).flatten()\n",
    "\n",
    "volumes_0_ed = (volumes_0_ed - mean_0_ed) / std_0_ed\n",
    "volumes_1_ed = (volumes_1_ed - mean_1_ed) / std_1_ed\n",
    "volumes_2_ed = (volumes_2_ed - mean_2_ed) / std_2_ed\n",
    "volumes_3_ed = (volumes_3_ed - mean_3_ed) / std_3_ed\n",
    "\n",
    "volumes_0_es = (volumes_0_es - mean_0_es) / std_0_es\n",
    "volumes_1_es = (volumes_1_es - mean_1_es) / std_1_es\n",
    "volumes_2_es = (volumes_2_es - mean_2_es) / std_2_es\n",
    "volumes_3_es = (volumes_3_es - mean_3_es) / std_3_es\n",
    "\n",
    "\n",
    "for i, new_col in enumerate([volumes_0_ed[:], volumes_1_ed[:], volumes_2_ed[:], volumes_3_ed[:], volumes_0_es[:], volumes_1_es[:], volumes_2_es[:], volumes_3_es[:]]):\n",
    "    features[:,i+2] = new_col"
   ]
  },
  {
   "cell_type": "code",
   "execution_count": 17,
   "metadata": {},
   "outputs": [],
   "source": [
    "preds = np.zeros((metaDataTestClean[:].shape[0]))\n",
    "\n",
    "for i in range(metaDataTestClean[:].shape[0]):\n",
    "    healthy_preds = stats.multivariate_normal.pdf(features[i], mean = healthy_mean, cov = healthy_cov, allow_singular=True)\n",
    "    myocardial_preds = stats.multivariate_normal.pdf(features[i], mean = myocardial_infarction_mean, cov = myocardial_infarction_cov, allow_singular=True)\n",
    "    dilated_cardiomyopathy_preds = stats.multivariate_normal.pdf(features[i], mean = dilated_cardiomyopathy_mean, cov = dilated_cardiomyopathy_cov, allow_singular=True)\n",
    "    hypertrophic_cardiomyopathy_preds = stats.multivariate_normal.pdf(features[i], mean = hypertrophic_cardiomyopathy_mean, cov = hypertrophic_cardiomyopathy_cov, allow_singular=True)\n",
    "    arrhythmogenic_right_ventricular_dysplasia_preds = stats.multivariate_normal.pdf(features[i], mean = arrhythmogenic_right_ventricular_dysplasia_mean, cov = arrhythmogenic_right_ventricular_dysplasia_cov, allow_singular=True)  \n",
    "    \n",
    "    preds[i]= np.argmax([healthy_preds, myocardial_preds, dilated_cardiomyopathy_preds, hypertrophic_cardiomyopathy_preds, arrhythmogenic_right_ventricular_dysplasia_preds])\n",
    "\n",
    "preds_int = preds.astype('int')"
   ]
  },
  {
   "cell_type": "code",
   "execution_count": 18,
   "metadata": {},
   "outputs": [
    {
     "data": {
      "text/plain": [
       "Text(0, 0.5, 'Frequency')"
      ]
     },
     "execution_count": 18,
     "metadata": {},
     "output_type": "execute_result"
    },
    {
     "data": {
      "image/png": "[encoded data removed]",
      "text/plain": [
       "<Figure size 640x480 with 1 Axes>"
      ]
     },
     "metadata": {},
     "output_type": "display_data"
    }
   ],
   "source": [
    "plt.hist(np.array(preds), bins=5)\n",
    "plt.xticks([0,1,2,3,4])\n",
    "plt.xlabel('Classes (0: healthy, 1: myocardial infarction, 2: dilated cardiomyopathy, 3: hypertrophic cardiomyopathy, 4: arrhythmogenic right ventricular dysplasia)')\n",
    "plt.ylabel('Frequency')"
   ]
  },
  {
   "attachments": {},
   "cell_type": "markdown",
   "metadata": {},
   "source": [
    "### Saving preds on csv"
   ]
  },
  {
   "cell_type": "code",
   "execution_count": 22,
   "metadata": {},
   "outputs": [
    {
     "data": {
      "text/plain": [
       "array([2, 4, 1, 1, 4, 2, 3, 1, 4, 4, 3, 3, 0, 0, 3, 4, 2, 3, 2, 3, 1, 0,\n",
       "       3, 3, 4, 2, 2, 4, 2, 4, 1, 4, 3, 2, 3, 3, 4, 3, 2, 0, 2, 1, 2, 1,\n",
       "       4, 2, 3, 2, 1, 1])"
      ]
     },
     "execution_count": 22,
     "metadata": {},
     "output_type": "execute_result"
    }
   ],
   "source": [
    "preds_int"
   ]
  },
  {
   "cell_type": "code",
   "execution_count": 20,
   "metadata": {},
   "outputs": [],
   "source": [
    "df = pd.read_csv(\"../SampleSubmission.csv\")\n",
    "df.iloc[:, 1] = preds_int\n",
    "df.to_csv(\"../SampleSubmission.csv\", index=False)\n"
   ]
  }
 ],
 "metadata": {
  "kernelspec": {
   "display_name": "Python 3",
   "language": "python",
   "name": "python3"
  },
  "language_info": {
   "codemirror_mode": {
    "name": "ipython",
    "version": 3
   },
   "file_extension": ".py",
   "mimetype": "text/x-python",
   "name": "python",
   "nbconvert_exporter": "python",
   "pygments_lexer": "ipython3",
   "version": "3.10.9"
  },
  "orig_nbformat": 4
 },
 "nbformat": 4,
 "nbformat_minor": 2
}
