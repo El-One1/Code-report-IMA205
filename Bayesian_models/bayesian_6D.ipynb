{
 "cells": [
  {
   "cell_type": "code",
   "execution_count": 2,
   "metadata": {},
   "outputs": [],
   "source": [
    "import numpy as np\n",
    "from matplotlib import pyplot as plt\n",
    "import pandas as pd\n",
    "\n",
    "import torch\n",
    "import torchio as tio\n",
    "from torch.utils.data import DataLoader\n",
    "\n",
    "from functions import *"
   ]
  },
  {
   "cell_type": "code",
   "execution_count": 3,
   "metadata": {},
   "outputs": [
    {
     "data": {
      "text/html": [
       "<div>\n",
       "<style scoped>\n",
       "    .dataframe tbody tr th:only-of-type {\n",
       "        vertical-align: middle;\n",
       "    }\n",
       "\n",
       "    .dataframe tbody tr th {\n",
       "        vertical-align: top;\n",
       "    }\n",
       "\n",
       "    .dataframe thead th {\n",
       "        text-align: right;\n",
       "    }\n",
       "</style>\n",
       "<table border=\"1\" class=\"dataframe\">\n",
       "  <thead>\n",
       "    <tr style=\"text-align: right;\">\n",
       "      <th></th>\n",
       "      <th>Id</th>\n",
       "      <th>Category</th>\n",
       "      <th>Height</th>\n",
       "      <th>Weight</th>\n",
       "    </tr>\n",
       "  </thead>\n",
       "  <tbody>\n",
       "    <tr>\n",
       "      <th>0</th>\n",
       "      <td>1</td>\n",
       "      <td>2</td>\n",
       "      <td>184.0</td>\n",
       "      <td>95.0</td>\n",
       "    </tr>\n",
       "    <tr>\n",
       "      <th>1</th>\n",
       "      <td>2</td>\n",
       "      <td>2</td>\n",
       "      <td>160.0</td>\n",
       "      <td>70.0</td>\n",
       "    </tr>\n",
       "    <tr>\n",
       "      <th>2</th>\n",
       "      <td>3</td>\n",
       "      <td>2</td>\n",
       "      <td>165.0</td>\n",
       "      <td>77.0</td>\n",
       "    </tr>\n",
       "    <tr>\n",
       "      <th>3</th>\n",
       "      <td>4</td>\n",
       "      <td>2</td>\n",
       "      <td>159.0</td>\n",
       "      <td>46.0</td>\n",
       "    </tr>\n",
       "    <tr>\n",
       "      <th>4</th>\n",
       "      <td>5</td>\n",
       "      <td>2</td>\n",
       "      <td>165.0</td>\n",
       "      <td>77.0</td>\n",
       "    </tr>\n",
       "  </tbody>\n",
       "</table>\n",
       "</div>"
      ],
      "text/plain": [
       "   Id  Category  Height  Weight\n",
       "0   1         2   184.0    95.0\n",
       "1   2         2   160.0    70.0\n",
       "2   3         2   165.0    77.0\n",
       "3   4         2   159.0    46.0\n",
       "4   5         2   165.0    77.0"
      ]
     },
     "execution_count": 3,
     "metadata": {},
     "output_type": "execute_result"
    }
   ],
   "source": [
    "metaData = pd.read_csv('../metaDataTrain.csv')\n",
    "metaDataClean = metaData.iloc\n",
    "metaData.head()"
   ]
  },
  {
   "cell_type": "code",
   "execution_count": 4,
   "metadata": {},
   "outputs": [],
   "source": [
    "subject_9 = tio.Subject(\n",
    "    ed=tio.ScalarImage('../Train/009/009_ED.nii'),\n",
    "    es = tio.ScalarImage('../Train/009/009_ES.nii'),\n",
    "    ed_seg=tio.ScalarImage('../Train/009/009_ED_seg.nii'),\n",
    "    es_seg = tio.ScalarImage('../Train/009/009_ES_seg.nii'),\n",
    "    diagnosis=metaDataClean[9][1],\n",
    ")"
   ]
  },
  {
   "cell_type": "code",
   "execution_count": 5,
   "metadata": {},
   "outputs": [
    {
     "data": {
      "text/plain": [
       "2"
      ]
     },
     "execution_count": 5,
     "metadata": {},
     "output_type": "execute_result"
    }
   ],
   "source": [
    "subject_list = load_training_dataset(metaDataClean)\n",
    "subject_list[10].diagnosis"
   ]
  },
  {
   "cell_type": "code",
   "execution_count": 6,
   "metadata": {},
   "outputs": [
    {
     "data": {
      "text/plain": [
       "Id            1.0\n",
       "Category      2.0\n",
       "Height      184.0\n",
       "Weight       95.0\n",
       "Name: 0, dtype: float64"
      ]
     },
     "execution_count": 6,
     "metadata": {},
     "output_type": "execute_result"
    }
   ],
   "source": [
    "metaDataClean[0]"
   ]
  },
  {
   "attachments": {},
   "cell_type": "markdown",
   "metadata": {},
   "source": [
    "## First approach: just use Height and Weight to predict the class"
   ]
  },
  {
   "attachments": {},
   "cell_type": "markdown",
   "metadata": {},
   "source": [
    "Create the vector of features for each class"
   ]
  },
  {
   "cell_type": "code",
   "execution_count": 7,
   "metadata": {},
   "outputs": [],
   "source": [
    "healthy_features = np.zeros((20, 6))  ## there are 6 features and 20 subjects per training class\n",
    "myocardial_infarction_features = np.zeros((20, 6))\n",
    "dilated_cardiomyopathy_features = np.zeros((20, 6))\n",
    "hypertrophic_cardiomyopathy_features = np.zeros((20, 6))\n",
    "arrhythmogenic_right_ventricular_dysplasia_features = np.zeros((20, 6))"
   ]
  },
  {
   "attachments": {},
   "cell_type": "markdown",
   "metadata": {},
   "source": [
    "First extract the data contained in the metaData.csv file"
   ]
  },
  {
   "cell_type": "code",
   "execution_count": 8,
   "metadata": {},
   "outputs": [],
   "source": [
    "healthy_metadata = select_lines_where_class_value_is_X(metaDataClean, 0).iloc\n",
    "myocardial_infarction_metadata = select_lines_where_class_value_is_X(metaDataClean, 1).iloc\n",
    "dilated_cardiomyopathy_metadata = select_lines_where_class_value_is_X(metaDataClean, 2).iloc\n",
    "hypertrophic_cardiomyopathy_metadata = select_lines_where_class_value_is_X(metaDataClean, 3).iloc\n",
    "arrhythmogenic_right_ventricular_dysplasia_metadata = select_lines_where_class_value_is_X(metaDataClean, 4).iloc\n",
    "\n",
    "healthy_metadata = select_row_x_and_y_from_table(healthy_metadata, 2, 3)\n",
    "myocardial_infarction_metadata = select_row_x_and_y_from_table(myocardial_infarction_metadata, 2, 3)\n",
    "dilated_cardiomyopathy_metadata = select_row_x_and_y_from_table(dilated_cardiomyopathy_metadata, 2, 3)\n",
    "hypertrophic_cardiomyopathy_metadata = select_row_x_and_y_from_table(hypertrophic_cardiomyopathy_metadata, 2, 3)\n",
    "arrhythmogenic_right_ventricular_dysplasia_metadata = select_row_x_and_y_from_table(arrhythmogenic_right_ventricular_dysplasia_metadata, 2, 3)\n",
    "\n",
    "## adding into features vectors\n",
    "healthy_features[:,:2] = healthy_metadata\n",
    "myocardial_infarction_features[:,:2] = myocardial_infarction_metadata\n",
    "dilated_cardiomyopathy_features[:,:2] = dilated_cardiomyopathy_metadata\n",
    "hypertrophic_cardiomyopathy_features[:,:2] = hypertrophic_cardiomyopathy_metadata\n",
    "arrhythmogenic_right_ventricular_dysplasia_features[:,:2] = arrhythmogenic_right_ventricular_dysplasia_metadata"
   ]
  },
  {
   "attachments": {},
   "cell_type": "markdown",
   "metadata": {},
   "source": [
    "We then extract the data we want from the dataset. In this notebook, we will only extract the volumes of various areas provided by the segmentation in place."
   ]
  },
  {
   "cell_type": "code",
   "execution_count": 9,
   "metadata": {},
   "outputs": [],
   "source": [
    "healthy_indices = np.where(metaDataClean[:,1].astype('int') == 0)\n",
    "myocardial_infarction_indices = np.where(metaDataClean[:,1].astype('int') == 1)\n",
    "dilated_cardiomyopathy_indices = np.where(metaDataClean[:,1].astype('int') == 2)\n",
    "hypertrophic_cardiomyopathy_indices = np.where(metaDataClean[:,1].astype('int') == 3)\n",
    "arrhythmogenic_right_ventricular_dysplasia_indices = np.where(metaDataClean[:,1].astype('int') == 4)"
   ]
  },
  {
   "cell_type": "code",
   "execution_count": 10,
   "metadata": {},
   "outputs": [],
   "source": [
    "volumes_0_ed = []\n",
    "volumes_1_ed = []\n",
    "volumes_2_ed = []\n",
    "volumes_3_ed = []\n",
    "\n",
    "volumes_0_es = []\n",
    "volumes_1_es = []\n",
    "volumes_2_es = []\n",
    "volumes_3_es = []\n",
    "   \n",
    "for i in range(0, 100):\n",
    "    subject = subject_list[i]\n",
    "    \n",
    "    ed_view = subject.ed_seg\n",
    "    volumes_0_ed.append(get_volume(ed_view, 0))\n",
    "    volumes_1_ed.append(get_volume(ed_view, 1))\n",
    "    volumes_2_ed.append(get_volume(ed_view, 2))\n",
    "    volumes_3_ed.append(get_volume(ed_view, 3))\n",
    "\n",
    "    es_view = subject.es_seg\n",
    "    volumes_0_es.append(get_volume(es_view, 0))\n",
    "    volumes_1_es.append(get_volume(es_view, 1))\n",
    "    volumes_2_es.append(get_volume(es_view, 2))\n",
    "    volumes_3_es.append(get_volume(es_view, 3))\n",
    "\n",
    "volumes_0_ed = np.array([volumes_0_ed]).flatten()\n",
    "volumes_1_ed = np.array([volumes_1_ed]).flatten()\n",
    "volumes_2_ed = np.array([volumes_2_ed]).flatten()\n",
    "volumes_3_ed = np.array([volumes_3_ed]).flatten()\n",
    "\n",
    "volumes_0_es = np.array([volumes_0_es]).flatten()\n",
    "volumes_1_es = np.array([volumes_1_es]).flatten()\n",
    "volumes_2_es = np.array([volumes_2_es]).flatten()\n",
    "volumes_3_es = np.array([volumes_3_es]).flatten()\n",
    "\n",
    "delta_v0 = volumes_0_es - volumes_0_ed\n",
    "delta_v1 = volumes_1_es - volumes_1_ed\n",
    "delta_v2 = volumes_2_es - volumes_2_ed\n",
    "delta_v3 = volumes_3_es - volumes_3_ed"
   ]
  },
  {
   "cell_type": "code",
   "execution_count": 11,
   "metadata": {},
   "outputs": [],
   "source": [
    "mean_delta_v0, std_delta_v0 = np.mean(delta_v0), np.std(delta_v0)\n",
    "mean_delta_v1, std_delta_v1 = np.mean(delta_v1), np.std(delta_v1)\n",
    "mean_delta_v2, std_delta_v2 = np.mean(delta_v2), np.std(delta_v2)\n",
    "mean_delta_v3, std_delta_v3 = np.mean(delta_v3), np.std(delta_v3)\n",
    "\n",
    "dela_v0 = (delta_v0 - mean_delta_v0) / std_delta_v0\n",
    "dela_v1 = (delta_v1 - mean_delta_v1) / std_delta_v1\n",
    "dela_v2 = (delta_v2 - mean_delta_v2) / std_delta_v2\n",
    "dela_v3 = (delta_v3 - mean_delta_v3) / std_delta_v3\n",
    "\n",
    "\n",
    "for i, new_col in enumerate([delta_v0[healthy_indices], delta_v1[healthy_indices], delta_v2[healthy_indices], delta_v3[healthy_indices]]):\n",
    "    healthy_features[:,i+2] = new_col\n",
    "\n",
    "for i, new_col in enumerate([delta_v0[myocardial_infarction_indices], delta_v1[myocardial_infarction_indices], delta_v2[myocardial_infarction_indices], delta_v3[myocardial_infarction_indices]]):\n",
    "    myocardial_infarction_features[:,i+2] = new_col\n",
    "\n",
    "for i, new_col in enumerate([delta_v0[dilated_cardiomyopathy_indices], delta_v1[dilated_cardiomyopathy_indices], delta_v2[dilated_cardiomyopathy_indices], delta_v3[dilated_cardiomyopathy_indices]]):\n",
    "    dilated_cardiomyopathy_features[:,i+2] = new_col\n",
    "\n",
    "for i, new_col in enumerate([delta_v0[hypertrophic_cardiomyopathy_indices], delta_v1[hypertrophic_cardiomyopathy_indices], delta_v2[hypertrophic_cardiomyopathy_indices], delta_v3[hypertrophic_cardiomyopathy_indices]]):\n",
    "    hypertrophic_cardiomyopathy_features[:,i+2] = new_col\n",
    "\n",
    "for i, new_col in enumerate([delta_v0[arrhythmogenic_right_ventricular_dysplasia_indices], delta_v1[arrhythmogenic_right_ventricular_dysplasia_indices], delta_v2[arrhythmogenic_right_ventricular_dysplasia_indices], delta_v3[arrhythmogenic_right_ventricular_dysplasia_indices]]):\n",
    "    arrhythmogenic_right_ventricular_dysplasia_features[:,i+2] = new_col"
   ]
  },
  {
   "cell_type": "code",
   "execution_count": 12,
   "metadata": {},
   "outputs": [],
   "source": [
    "healthy_mean, healthy_cov = compute_mean_and_covariance_matrix(healthy_features)\n",
    "myocardial_infarction_mean, myocardial_infarction_cov = compute_mean_and_covariance_matrix(myocardial_infarction_features)\n",
    "dilated_cardiomyopathy_mean, dilated_cardiomyopathy_cov = compute_mean_and_covariance_matrix(dilated_cardiomyopathy_features)\n",
    "hypertrophic_cardiomyopathy_mean, hypertrophic_cardiomyopathy_cov = compute_mean_and_covariance_matrix(hypertrophic_cardiomyopathy_features)\n",
    "arrhythmogenic_right_ventricular_dysplasia_mean, arrhythmogenic_right_ventricular_dysplasia_cov = compute_mean_and_covariance_matrix(arrhythmogenic_right_ventricular_dysplasia_features)"
   ]
  },
  {
   "cell_type": "code",
   "execution_count": 13,
   "metadata": {},
   "outputs": [],
   "source": [
    "preds = np.zeros((metaDataClean[:].shape[0]))\n",
    "\n",
    "for i in range(metaDataClean[:].shape[0]):\n",
    "    \n",
    "    if 0<= i <= 19:\n",
    "        healthy_preds = stats.multivariate_normal.pdf(healthy_features[i], mean = healthy_mean, cov = healthy_cov, allow_singular=True)\n",
    "        myocardial_preds = stats.multivariate_normal.pdf(healthy_features[i], mean = myocardial_infarction_mean, cov = myocardial_infarction_cov, allow_singular=True)\n",
    "        dilated_cardiomyopathy_preds = stats.multivariate_normal.pdf(healthy_features[i], mean = dilated_cardiomyopathy_mean, cov = dilated_cardiomyopathy_cov, allow_singular=True)\n",
    "        hypertrophic_cardiomyopathy_preds = stats.multivariate_normal.pdf(healthy_features[i], mean = hypertrophic_cardiomyopathy_mean, cov = hypertrophic_cardiomyopathy_cov, allow_singular=True)\n",
    "        arrhythmogenic_right_ventricular_dysplasia_preds = stats.multivariate_normal.pdf(healthy_features[i], mean = arrhythmogenic_right_ventricular_dysplasia_mean, cov = arrhythmogenic_right_ventricular_dysplasia_cov, allow_singular=True)  \n",
    "        preds[i]= np.argmax([healthy_preds, myocardial_preds, dilated_cardiomyopathy_preds, hypertrophic_cardiomyopathy_preds, arrhythmogenic_right_ventricular_dysplasia_preds])\n",
    "\n",
    "    elif 20<= i <= 39:\n",
    "        healthy_preds = stats.multivariate_normal.pdf(myocardial_infarction_features[i-20], mean = healthy_mean, cov = healthy_cov, allow_singular=True)\n",
    "        myocardial_preds = stats.multivariate_normal.pdf(myocardial_infarction_features[i-20], mean = myocardial_infarction_mean, cov = myocardial_infarction_cov, allow_singular=True)\n",
    "        dilated_cardiomyopathy_preds = stats.multivariate_normal.pdf(myocardial_infarction_features[i-20], mean = dilated_cardiomyopathy_mean, cov = dilated_cardiomyopathy_cov, allow_singular=True)\n",
    "        hypertrophic_cardiomyopathy_preds = stats.multivariate_normal.pdf(myocardial_infarction_features[i-20], mean = hypertrophic_cardiomyopathy_mean, cov = hypertrophic_cardiomyopathy_cov, allow_singular=True)\n",
    "        arrhythmogenic_right_ventricular_dysplasia_preds = stats.multivariate_normal.pdf(myocardial_infarction_features[i-20], mean = arrhythmogenic_right_ventricular_dysplasia_mean, cov = arrhythmogenic_right_ventricular_dysplasia_cov, allow_singular=True)  \n",
    "        preds[i]= np.argmax([healthy_preds, myocardial_preds, dilated_cardiomyopathy_preds, hypertrophic_cardiomyopathy_preds, arrhythmogenic_right_ventricular_dysplasia_preds])\n",
    "\n",
    "    elif 40<= i <= 59:\n",
    "        healthy_preds = stats.multivariate_normal.pdf(dilated_cardiomyopathy_features[i-40], mean = healthy_mean, cov = healthy_cov, allow_singular=True)\n",
    "        myocardial_preds = stats.multivariate_normal.pdf(dilated_cardiomyopathy_features[i-40], mean = myocardial_infarction_mean, cov = myocardial_infarction_cov, allow_singular=True)\n",
    "        dilated_cardiomyopathy_preds = stats.multivariate_normal.pdf(dilated_cardiomyopathy_features[i-40], mean = dilated_cardiomyopathy_mean, cov = dilated_cardiomyopathy_cov, allow_singular=True)\n",
    "        hypertrophic_cardiomyopathy_preds = stats.multivariate_normal.pdf(dilated_cardiomyopathy_features[i-40], mean = hypertrophic_cardiomyopathy_mean, cov = hypertrophic_cardiomyopathy_cov, allow_singular=True)\n",
    "        arrhythmogenic_right_ventricular_dysplasia_preds = stats.multivariate_normal.pdf(dilated_cardiomyopathy_features[i-40], mean = arrhythmogenic_right_ventricular_dysplasia_mean, cov = arrhythmogenic_right_ventricular_dysplasia_cov, allow_singular=True)  \n",
    "        preds[i]= np.argmax([healthy_preds, myocardial_preds, dilated_cardiomyopathy_preds, hypertrophic_cardiomyopathy_preds, arrhythmogenic_right_ventricular_dysplasia_preds])\n",
    "\n",
    "    elif 60<= i <= 79:\n",
    "        healthy_preds = stats.multivariate_normal.pdf(hypertrophic_cardiomyopathy_features[i-60], mean = healthy_mean, cov = healthy_cov, allow_singular=True)\n",
    "        myocardial_preds = stats.multivariate_normal.pdf(hypertrophic_cardiomyopathy_features[i-60], mean = myocardial_infarction_mean, cov = myocardial_infarction_cov, allow_singular=True)\n",
    "        dilated_cardiomyopathy_preds = stats.multivariate_normal.pdf(hypertrophic_cardiomyopathy_features[i-60], mean = dilated_cardiomyopathy_mean, cov = dilated_cardiomyopathy_cov, allow_singular=True)\n",
    "        hypertrophic_cardiomyopathy_preds = stats.multivariate_normal.pdf(hypertrophic_cardiomyopathy_features[i-60], mean = hypertrophic_cardiomyopathy_mean, cov = hypertrophic_cardiomyopathy_cov, allow_singular=True)\n",
    "        arrhythmogenic_right_ventricular_dysplasia_preds = stats.multivariate_normal.pdf(hypertrophic_cardiomyopathy_features[i-60], mean = arrhythmogenic_right_ventricular_dysplasia_mean, cov = arrhythmogenic_right_ventricular_dysplasia_cov, allow_singular=True)  \n",
    "        preds[i]= np.argmax([healthy_preds, myocardial_preds, dilated_cardiomyopathy_preds, hypertrophic_cardiomyopathy_preds, arrhythmogenic_right_ventricular_dysplasia_preds])\n",
    "\n",
    "    elif 80<= i <= 99:\n",
    "        healthy_preds = stats.multivariate_normal.pdf(arrhythmogenic_right_ventricular_dysplasia_features[i-80], mean = healthy_mean, cov = healthy_cov, allow_singular=True)\n",
    "        myocardial_preds = stats.multivariate_normal.pdf(arrhythmogenic_right_ventricular_dysplasia_features[i-80], mean = myocardial_infarction_mean, cov = myocardial_infarction_cov, allow_singular=True)\n",
    "        dilated_cardiomyopathy_preds = stats.multivariate_normal.pdf(arrhythmogenic_right_ventricular_dysplasia_features[i-80], mean = dilated_cardiomyopathy_mean, cov = dilated_cardiomyopathy_cov, allow_singular=True)\n",
    "        hypertrophic_cardiomyopathy_preds = stats.multivariate_normal.pdf(arrhythmogenic_right_ventricular_dysplasia_features[i-80], mean = hypertrophic_cardiomyopathy_mean, cov = hypertrophic_cardiomyopathy_cov, allow_singular=True)\n",
    "        arrhythmogenic_right_ventricular_dysplasia_preds = stats.multivariate_normal.pdf(arrhythmogenic_right_ventricular_dysplasia_features[i-80], mean = arrhythmogenic_right_ventricular_dysplasia_mean, cov = arrhythmogenic_right_ventricular_dysplasia_cov, allow_singular=True)  \n",
    "        preds[i]= np.argmax([healthy_preds, myocardial_preds, dilated_cardiomyopathy_preds, hypertrophic_cardiomyopathy_preds, arrhythmogenic_right_ventricular_dysplasia_preds])\n",
    "\n",
    "gt = metaDataClean[:, 1].astype('int')\n",
    "orderded_indices = np.concatenate((healthy_indices, myocardial_infarction_indices, dilated_cardiomyopathy_indices, hypertrophic_cardiomyopathy_indices, arrhythmogenic_right_ventricular_dysplasia_indices))\n",
    "gt_orderded = [gt[i] for i in orderded_indices.flatten()]"
   ]
  },
  {
   "cell_type": "code",
   "execution_count": 14,
   "metadata": {},
   "outputs": [
    {
     "data": {
      "text/plain": [
       "Text(0.5, 1.0, 'Prediction repartition for naïve bayes 10D. 60% accuracy')"
      ]
     },
     "execution_count": 14,
     "metadata": {},
     "output_type": "execute_result"
    },
    {
     "data": {
      "image/png": "[encoded data removed]",
      "text/plain": [
       "<Figure size 640x480 with 1 Axes>"
      ]
     },
     "metadata": {},
     "output_type": "display_data"
    }
   ],
   "source": [
    "accuracynb = accuracy(preds, gt_orderded)\n",
    "plt.hist(np.array(preds), bins=5)\n",
    "plt.xticks([0,1,2,3,4])\n",
    "plt.xlabel('Classes (0: healthy, 1: myocardial infarction, 2: dilated cardiomyopathy, 3: hypertrophic cardiomyopathy, 4: arrhythmogenic right ventricular dysplasia)')\n",
    "plt.ylabel('Frequency')\n",
    "plt.title(\"Prediction repartition for naïve bayes 10D. {:.0f}% accuracy\".format(accuracynb*100))"
   ]
  },
  {
   "attachments": {},
   "cell_type": "markdown",
   "metadata": {},
   "source": [
    "## Let us compute predictions on the test set"
   ]
  },
  {
   "cell_type": "code",
   "execution_count": 18,
   "metadata": {},
   "outputs": [],
   "source": [
    "features = np.zeros((50, 6)) #50 subjects, 10 features each\n",
    "\n",
    "metaDataTest = pd.read_csv('../metaDataTest.csv') \n",
    "metaDataTestClean = metaDataTest.iloc\n",
    "\n",
    "metaDataTestClean = select_row_x_and_y_from_table(metaDataTestClean, 1, 2) #extracting height and weight\n",
    "\n",
    "## adding into features vector.\n",
    "# Order is : height, weight, volumes_0_ed, volumes_1_ed, volumes_2_ed, volumes_3_ed, volumes_0_es, volumes_1_esolumes_2_esolumes_3_es\n",
    "\n",
    "features[:,:2] = metaDataTestClean"
   ]
  },
  {
   "attachments": {},
   "cell_type": "markdown",
   "metadata": {},
   "source": [
    "Now let us stack the other features"
   ]
  },
  {
   "cell_type": "code",
   "execution_count": 21,
   "metadata": {},
   "outputs": [],
   "source": [
    "from functions import *\n",
    "test_subject_list = load_filled_test_dataset()\n",
    "\n",
    "volumes_0_ed = []\n",
    "volumes_1_ed = []\n",
    "volumes_2_ed = []\n",
    "volumes_3_ed = []\n",
    "\n",
    "volumes_0_es = []\n",
    "volumes_1_es = []\n",
    "volumes_2_es = []\n",
    "volumes_3_es = []\n",
    "   \n",
    "for i in range(0, 50):\n",
    "    subject = test_subject_list[i]\n",
    "    \n",
    "    ed_view = subject.ed_seg\n",
    "    volumes_0_ed.append(get_volume(ed_view, 0))\n",
    "    volumes_1_ed.append(get_volume(ed_view, 1))\n",
    "    volumes_2_ed.append(get_volume(ed_view, 2))\n",
    "    volumes_3_ed.append(get_volume(ed_view, 3))\n",
    "\n",
    "    es_view = subject.es_seg\n",
    "    volumes_0_es.append(get_volume(es_view, 0))\n",
    "    volumes_1_es.append(get_volume(es_view, 1))\n",
    "    volumes_2_es.append(get_volume(es_view, 2))\n",
    "    volumes_3_es.append(get_volume(es_view, 3))\n",
    "\n",
    "volumes_0_ed = np.array([volumes_0_ed]).flatten()\n",
    "volumes_1_ed = np.array([volumes_1_ed]).flatten()\n",
    "volumes_2_ed = np.array([volumes_2_ed]).flatten()\n",
    "volumes_3_ed = np.array([volumes_3_ed]).flatten()\n",
    "\n",
    "volumes_0_es = np.array([volumes_0_es]).flatten()\n",
    "volumes_1_es = np.array([volumes_1_es]).flatten()\n",
    "volumes_2_es = np.array([volumes_2_es]).flatten()\n",
    "volumes_3_es = np.array([volumes_3_es]).flatten()\n",
    "\n",
    "delta_v0 = volumes_0_es - volumes_0_ed\n",
    "delta_v1 = volumes_1_es - volumes_1_ed\n",
    "delta_v2 = volumes_2_es - volumes_2_ed\n",
    "delta_v3 = volumes_3_es - volumes_3_ed\n",
    "\n",
    "dela_v0 = (delta_v0 - mean_delta_v0) / std_delta_v0\n",
    "dela_v1 = (delta_v1 - mean_delta_v1) / std_delta_v1\n",
    "dela_v2 = (delta_v2 - mean_delta_v2) / std_delta_v2\n",
    "dela_v3 = (delta_v3 - mean_delta_v3) / std_delta_v3\n",
    "\n",
    "for i, new_col in enumerate([delta_v0[:], delta_v1[:], delta_v2[:], delta_v3[:]]):\n",
    "    features[:,i+2] = new_col"
   ]
  },
  {
   "cell_type": "code",
   "execution_count": 22,
   "metadata": {},
   "outputs": [],
   "source": [
    "preds = np.zeros((metaDataTestClean[:].shape[0]))\n",
    "\n",
    "for i in range(metaDataTestClean[:].shape[0]):\n",
    "    healthy_preds = stats.multivariate_normal.pdf(features[i], mean = healthy_mean, cov = healthy_cov, allow_singular=True)\n",
    "    myocardial_preds = stats.multivariate_normal.pdf(features[i], mean = myocardial_infarction_mean, cov = myocardial_infarction_cov, allow_singular=True)\n",
    "    dilated_cardiomyopathy_preds = stats.multivariate_normal.pdf(features[i], mean = dilated_cardiomyopathy_mean, cov = dilated_cardiomyopathy_cov, allow_singular=True)\n",
    "    hypertrophic_cardiomyopathy_preds = stats.multivariate_normal.pdf(features[i], mean = hypertrophic_cardiomyopathy_mean, cov = hypertrophic_cardiomyopathy_cov, allow_singular=True)\n",
    "    arrhythmogenic_right_ventricular_dysplasia_preds = stats.multivariate_normal.pdf(features[i], mean = arrhythmogenic_right_ventricular_dysplasia_mean, cov = arrhythmogenic_right_ventricular_dysplasia_cov, allow_singular=True)  \n",
    "    \n",
    "    preds[i]= np.argmax([healthy_preds, myocardial_preds, dilated_cardiomyopathy_preds, hypertrophic_cardiomyopathy_preds, arrhythmogenic_right_ventricular_dysplasia_preds])\n",
    "\n",
    "preds_int = preds.astype('int')"
   ]
  },
  {
   "cell_type": "code",
   "execution_count": 24,
   "metadata": {},
   "outputs": [
    {
     "data": {
      "text/plain": [
       "Text(0, 0.5, 'Frequency')"
      ]
     },
     "execution_count": 24,
     "metadata": {},
     "output_type": "execute_result"
    },
    {
     "data": {
      "image/png": "[encoded data removed]",
      "text/plain": [
       "<Figure size 640x480 with 1 Axes>"
      ]
     },
     "metadata": {},
     "output_type": "display_data"
    }
   ],
   "source": [
    "plt.hist(np.array(preds), bins=5)\n",
    "plt.xticks([0,1,2,3,4])\n",
    "plt.xlabel('Classes (0: healthy, 1: myocardial infarction, 2: dilated cardiomyopathy, 3: hypertrophic cardiomyopathy, 4: arrhythmogenic right ventricular dysplasia)')\n",
    "plt.ylabel('Frequency')"
   ]
  },
  {
   "attachments": {},
   "cell_type": "markdown",
   "metadata": {},
   "source": [
    "### Saving preds on csv"
   ]
  },
  {
   "cell_type": "code",
   "execution_count": 25,
   "metadata": {},
   "outputs": [
    {
     "data": {
      "text/plain": [
       "array([1, 4, 3, 3, 0, 2, 3, 3, 1, 4, 4, 3, 3, 3, 3, 4, 1, 3, 2, 0, 0, 4,\n",
       "       3, 3, 4, 2, 1, 4, 2, 4, 3, 4, 0, 2, 3, 0, 0, 3, 2, 3, 4, 1, 1, 2,\n",
       "       4, 2, 2, 3, 1, 2])"
      ]
     },
     "execution_count": 25,
     "metadata": {},
     "output_type": "execute_result"
    }
   ],
   "source": [
    "preds_int"
   ]
  },
  {
   "cell_type": "code",
   "execution_count": 26,
   "metadata": {},
   "outputs": [],
   "source": [
    "df = pd.read_csv(\"../SampleSubmission.csv\")\n",
    "df.iloc[:, 1] = preds_int\n",
    "df.to_csv(\"../SampleSubmission.csv\", index=False)\n"
   ]
  }
 ],
 "metadata": {
  "kernelspec": {
   "display_name": "Python 3",
   "language": "python",
   "name": "python3"
  },
  "language_info": {
   "codemirror_mode": {
    "name": "ipython",
    "version": 3
   },
   "file_extension": ".py",
   "mimetype": "text/x-python",
   "name": "python",
   "nbconvert_exporter": "python",
   "pygments_lexer": "ipython3",
   "version": "3.10.9"
  },
  "orig_nbformat": 4
 },
 "nbformat": 4,
 "nbformat_minor": 2
}
