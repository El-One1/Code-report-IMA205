{
 "cells": [
  {
   "cell_type": "code",
   "execution_count": 107,
   "metadata": {},
   "outputs": [],
   "source": [
    "import numpy as np\n",
    "from matplotlib import pyplot as plt\n",
    "import pandas as pd\n",
    "\n",
    "import torchio as tio\n",
    "from torch.utils.data import DataLoader\n",
    "from torchvision.transforms import ToTensor\n",
    "import torch.nn.functional as F\n",
    "import torch.nn as nn\n",
    "import torch.optim as optim\n",
    "\n",
    "from sklearn.ensemble import VotingClassifier\n",
    "\n",
    "from sklearn.ensemble import RandomForestClassifier\n",
    "from sklearn.ensemble import GradientBoostingClassifier\n",
    "from sklearn import svm\n",
    "from sklearn.neighbors import KNeighborsClassifier\n",
    "from sklearn.naive_bayes import GaussianNB\n",
    "from sklearn.tree import DecisionTreeClassifier\n",
    "from sklearn.linear_model import LogisticRegression\n",
    "from sklearn.preprocessing import StandardScaler\n",
    "from sklearn.utils import shuffle\n",
    "from sklearn.model_selection import cross_val_score\n",
    "from sklearn.model_selection import train_test_split\n",
    "from sklearn.model_selection import GridSearchCV\n",
    "from sklearn.metrics import confusion_matrix\n",
    "\n",
    "from seaborn import heatmap\n",
    "\n",
    "\n",
    "from functions import *"
   ]
  },
  {
   "cell_type": "code",
   "execution_count": 108,
   "metadata": {},
   "outputs": [],
   "source": [
    "metaData = pd.read_csv('../metaDataTrain.csv') #remove 2 for GNB\n",
    "metaDataClean = metaData.iloc\n",
    "subject_list = load_training_dataset(metaDataClean)"
   ]
  },
  {
   "attachments": {},
   "cell_type": "markdown",
   "metadata": {},
   "source": [
    "## Let us construct the features vectors"
   ]
  },
  {
   "cell_type": "code",
   "execution_count": 109,
   "metadata": {},
   "outputs": [],
   "source": [
    "features = np.zeros((100, 24))  #24 for GNB/RF"
   ]
  },
  {
   "attachments": {},
   "cell_type": "markdown",
   "metadata": {},
   "source": [
    "Let us add volume information to feature vectors\n",
    "\n",
    "No need to use spacing info as volumes are normalized by sum of all volumes"
   ]
  },
  {
   "cell_type": "code",
   "execution_count": 110,
   "metadata": {},
   "outputs": [],
   "source": [
    "volumes_1_ed = []\n",
    "volumes_2_ed = []\n",
    "volumes_3_ed = []\n",
    "\n",
    "volumes_1_es = []\n",
    "volumes_2_es = []\n",
    "volumes_3_es = []\n",
    "\n",
    "spacings = np.zeros((100))\n",
    "   \n",
    "for i in range(0, 100):\n",
    "    subject = subject_list[i]\n",
    "    \n",
    "    ed_view = subject.ed_seg\n",
    "    sum_volumes = get_volume(ed_view, 0) + get_volume(ed_view, 1) + get_volume(ed_view, 2) + get_volume(ed_view, 3)\n",
    "    volumes_1_ed.append(get_volume(ed_view, 1)/sum_volumes)\n",
    "    volumes_2_ed.append(get_volume(ed_view, 2)/sum_volumes)\n",
    "    volumes_3_ed.append(get_volume(ed_view, 3)/sum_volumes)\n",
    "\n",
    "    es_view = subject.es_seg\n",
    "    sum_volumes = get_volume(es_view, 0) + get_volume(es_view, 1) + get_volume(es_view, 2) + get_volume(es_view, 3)\n",
    "    volumes_1_es.append(get_volume(es_view, 1)/sum_volumes)\n",
    "    volumes_2_es.append(get_volume(es_view, 2)/sum_volumes)\n",
    "    volumes_3_es.append(get_volume(es_view, 3)/sum_volumes)\n",
    "\n",
    "    spacings[i] = np.prod(subject.spacing)\n",
    "\n",
    "volumes_1_ed = np.array([volumes_1_ed]).flatten() \n",
    "volumes_2_ed = np.array([volumes_2_ed]).flatten() \n",
    "volumes_3_ed = np.array([volumes_3_ed]).flatten() \n",
    "\n",
    "volumes_1_es = np.array([volumes_1_es]).flatten() \n",
    "volumes_2_es = np.array([volumes_2_es]).flatten() \n",
    "volumes_3_es = np.array([volumes_3_es]).flatten() \n",
    "\n",
    "######### new features\n",
    "ejection_fraction_right = (volumes_1_ed - volumes_1_es) / volumes_1_ed\n",
    "ejection_fraction_left = (volumes_3_ed - volumes_3_es) / volumes_3_ed\n",
    "\n",
    "\n",
    "ratioRL_ed = volumes_3_ed / volumes_1_ed\n",
    "ratioRL_es = volumes_3_es / volumes_1_es\n",
    "\n",
    "ratioML_ed = volumes_2_ed / volumes_1_ed\n",
    "ratioML_es = volumes_2_es / volumes_1_es\n",
    "\n",
    "\n",
    "for i, new_col in enumerate([ratioRL_ed[:], ratioRL_es[:], ratioML_ed[:], ratioML_es[:], ejection_fraction_right[:], volumes_1_ed[:], volumes_2_ed[:], volumes_3_ed[:], ejection_fraction_left[:], volumes_1_es[:], volumes_2_es[:], volumes_3_es[:]]):\n",
    "    features[:,i] = new_col"
   ]
  },
  {
   "cell_type": "code",
   "execution_count": 111,
   "metadata": {},
   "outputs": [],
   "source": [
    "thicknesses = np.array(metaData.iloc[:, 4:])#*spacings[:, np.newaxis]\n",
    "features[:,-12:] = thicknesses"
   ]
  },
  {
   "cell_type": "code",
   "execution_count": 112,
   "metadata": {},
   "outputs": [],
   "source": [
    "mask = np.zeros(features.shape[1], dtype=bool)\n",
    "#mask[[5, 6, 7, -1, -2, 0, 1, 2, 3, 9, 11, -3, -4, 4]] = True\n",
    "mask[[5, 6, 7, -7, -8, 0, 1, 2, 3, 9, 11, -2, -1, 4]] = True #for gaussianNB good val\n",
    "\n",
    "features = features[:, mask]"
   ]
  },
  {
   "attachments": {},
   "cell_type": "markdown",
   "metadata": {},
   "source": [
    "Let us just give our explicit class vector"
   ]
  },
  {
   "cell_type": "code",
   "execution_count": 113,
   "metadata": {},
   "outputs": [],
   "source": [
    "classes = np.zeros((100))\n",
    "classes[:20] = 2\n",
    "classes[20:40] = 3\n",
    "classes[40:60] = 1\n",
    "classes[60:80] = 0\n",
    "classes[80:100] = 4\n",
    "classes = classes.astype('int')"
   ]
  },
  {
   "attachments": {},
   "cell_type": "markdown",
   "metadata": {},
   "source": [
    "First split and transform data"
   ]
  },
  {
   "cell_type": "code",
   "execution_count": 114,
   "metadata": {},
   "outputs": [],
   "source": [
    "scaler_first = StandardScaler().fit(features)\n",
    "features_scaled = scaler_first.transform(features)\n",
    "\n",
    "features, classes, features_scaled = shuffle(features, classes, features_scaled, random_state=0)\n",
    "X_train, X_val, y_train, y_val = train_test_split(features_scaled, classes, test_size=0.25, stratify=classes)"
   ]
  },
  {
   "cell_type": "code",
   "execution_count": 115,
   "metadata": {},
   "outputs": [
    {
     "data": {
      "text/html": [
       "<style>#sk-container-id-11 {color: black;background-color: white;}#sk-container-id-11 pre{padding: 0;}#sk-container-id-11 div.sk-toggleable {background-color: white;}#sk-container-id-11 label.sk-toggleable__label {cursor: pointer;display: block;width: 100%;margin-bottom: 0;padding: 0.3em;box-sizing: border-box;text-align: center;}#sk-container-id-11 label.sk-toggleable__label-arrow:before {content: \"▸\";float: left;margin-right: 0.25em;color: #696969;}#sk-container-id-11 label.sk-toggleable__label-arrow:hover:before {color: black;}#sk-container-id-11 div.sk-estimator:hover label.sk-toggleable__label-arrow:before {color: black;}#sk-container-id-11 div.sk-toggleable__content {max-height: 0;max-width: 0;overflow: hidden;text-align: left;background-color: #f0f8ff;}#sk-container-id-11 div.sk-toggleable__content pre {margin: 0.2em;color: black;border-radius: 0.25em;background-color: #f0f8ff;}#sk-container-id-11 input.sk-toggleable__control:checked~div.sk-toggleable__content {max-height: 200px;max-width: 100%;overflow: auto;}#sk-container-id-11 input.sk-toggleable__control:checked~label.sk-toggleable__label-arrow:before {content: \"▾\";}#sk-container-id-11 div.sk-estimator input.sk-toggleable__control:checked~label.sk-toggleable__label {background-color: #d4ebff;}#sk-container-id-11 div.sk-label input.sk-toggleable__control:checked~label.sk-toggleable__label {background-color: #d4ebff;}#sk-container-id-11 input.sk-hidden--visually {border: 0;clip: rect(1px 1px 1px 1px);clip: rect(1px, 1px, 1px, 1px);height: 1px;margin: -1px;overflow: hidden;padding: 0;position: absolute;width: 1px;}#sk-container-id-11 div.sk-estimator {font-family: monospace;background-color: #f0f8ff;border: 1px dotted black;border-radius: 0.25em;box-sizing: border-box;margin-bottom: 0.5em;}#sk-container-id-11 div.sk-estimator:hover {background-color: #d4ebff;}#sk-container-id-11 div.sk-parallel-item::after {content: \"\";width: 100%;border-bottom: 1px solid gray;flex-grow: 1;}#sk-container-id-11 div.sk-label:hover label.sk-toggleable__label {background-color: #d4ebff;}#sk-container-id-11 div.sk-serial::before {content: \"\";position: absolute;border-left: 1px solid gray;box-sizing: border-box;top: 0;bottom: 0;left: 50%;z-index: 0;}#sk-container-id-11 div.sk-serial {display: flex;flex-direction: column;align-items: center;background-color: white;padding-right: 0.2em;padding-left: 0.2em;position: relative;}#sk-container-id-11 div.sk-item {position: relative;z-index: 1;}#sk-container-id-11 div.sk-parallel {display: flex;align-items: stretch;justify-content: center;background-color: white;position: relative;}#sk-container-id-11 div.sk-item::before, #sk-container-id-11 div.sk-parallel-item::before {content: \"\";position: absolute;border-left: 1px solid gray;box-sizing: border-box;top: 0;bottom: 0;left: 50%;z-index: -1;}#sk-container-id-11 div.sk-parallel-item {display: flex;flex-direction: column;z-index: 1;position: relative;background-color: white;}#sk-container-id-11 div.sk-parallel-item:first-child::after {align-self: flex-end;width: 50%;}#sk-container-id-11 div.sk-parallel-item:last-child::after {align-self: flex-start;width: 50%;}#sk-container-id-11 div.sk-parallel-item:only-child::after {width: 0;}#sk-container-id-11 div.sk-dashed-wrapped {border: 1px dashed gray;margin: 0 0.4em 0.5em 0.4em;box-sizing: border-box;padding-bottom: 0.4em;background-color: white;}#sk-container-id-11 div.sk-label label {font-family: monospace;font-weight: bold;display: inline-block;line-height: 1.2em;}#sk-container-id-11 div.sk-label-container {text-align: center;}#sk-container-id-11 div.sk-container {/* jupyter's `normalize.less` sets `[hidden] { display: none; }` but bootstrap.min.css set `[hidden] { display: none !important; }` so we also need the `!important` here to be able to override the default hidden behavior on the sphinx rendered scikit-learn.org. See: https://github.com/scikit-learn/scikit-learn/issues/21755 */display: inline-block !important;position: relative;}#sk-container-id-11 div.sk-text-repr-fallback {display: none;}</style><div id=\"sk-container-id-11\" class=\"sk-top-container\"><div class=\"sk-text-repr-fallback\"><pre>GaussianNB()</pre><b>In a Jupyter environment, please rerun this cell to show the HTML representation or trust the notebook. <br />On GitHub, the HTML representation is unable to render, please try loading this page with nbviewer.org.</b></div><div class=\"sk-container\" hidden><div class=\"sk-item\"><div class=\"sk-estimator sk-toggleable\"><input class=\"sk-toggleable__control sk-hidden--visually\" id=\"sk-estimator-id-11\" type=\"checkbox\" checked><label for=\"sk-estimator-id-11\" class=\"sk-toggleable__label sk-toggleable__label-arrow\">GaussianNB</label><div class=\"sk-toggleable__content\"><pre>GaussianNB()</pre></div></div></div></div></div>"
      ],
      "text/plain": [
       "GaussianNB()"
      ]
     },
     "execution_count": 115,
     "metadata": {},
     "output_type": "execute_result"
    }
   ],
   "source": [
    "clf = GaussianNB()\n",
    "\n",
    "clf.fit(X_train, y_train)"
   ]
  },
  {
   "cell_type": "code",
   "execution_count": 116,
   "metadata": {},
   "outputs": [
    {
     "data": {
      "image/png": "[encoded data removed]",
      "text/plain": [
       "<Figure size 640x480 with 2 Axes>"
      ]
     },
     "metadata": {},
     "output_type": "display_data"
    }
   ],
   "source": [
    "val_preds = clf.predict(X_val)\n",
    "\n",
    "cm = confusion_matrix(y_val, val_preds, labels=[0,1,2,3,4])\n",
    "heatmap(cm, annot=True, fmt='d', xticklabels=['NOR','MINF','DCM','HCM','ARV'], yticklabels=['NOR','MINF','DCM','HCM','ARV'])\n",
    "plt.xlabel('Predicted - GNB 12 selected features')\n",
    "plt.ylabel('True')\n",
    "plt.show()"
   ]
  },
  {
   "attachments": {},
   "cell_type": "markdown",
   "metadata": {},
   "source": [
    "## Now let us test that model on the test dataset"
   ]
  },
  {
   "cell_type": "code",
   "execution_count": 83,
   "metadata": {},
   "outputs": [],
   "source": [
    "test_features = np.zeros((50, 24))  "
   ]
  },
  {
   "cell_type": "code",
   "execution_count": 84,
   "metadata": {},
   "outputs": [],
   "source": [
    "test_subject_list1 = load_filled_test_dataset()\n",
    "test_subject_list = load_test_dataset()\n",
    "\n",
    "volumes_1_ed = []\n",
    "volumes_2_ed = []\n",
    "volumes_3_ed = []\n",
    "\n",
    "volumes_1_es = []\n",
    "volumes_2_es = []\n",
    "volumes_3_es = []\n",
    "\n",
    "spacings_test = np.zeros((50))\n",
    "   \n",
    "for i in range(0, 50):\n",
    "    subject1 = test_subject_list1[i]\n",
    "\n",
    "    subject_ed = test_subject_list[i].ed_seg.data.numpy()[0]\n",
    "    ed_view = subject1.ed_seg\n",
    "\n",
    "    sum_volumes = get_volume(ed_view, 0) + get_volume(ed_view, 1) + get_volume(ed_view, 2) + int((lv_volume(subject_ed == 2)).sum())\n",
    "    volumes_1_ed.append(get_volume(ed_view, 1)/sum_volumes)\n",
    "    volumes_2_ed.append(get_volume(ed_view, 2)/sum_volumes)\n",
    "    volumes_3_ed.append(int((lv_volume(subject_ed == 2)).sum())/sum_volumes)\n",
    "\n",
    "    subject_es = test_subject_list[i].es_seg.data.numpy()[0]\n",
    "    es_view = subject1.es_seg\n",
    "\n",
    "    sum_volumes = get_volume(es_view, 0) + get_volume(es_view, 1) + get_volume(es_view, 2) + int((lv_volume(subject_es == 2)).sum())\n",
    "    volumes_1_es.append(get_volume(es_view, 1)/sum_volumes)\n",
    "    volumes_2_es.append(get_volume(es_view, 2)/sum_volumes)\n",
    "    volumes_3_es.append(int((lv_volume(subject_es == 2)).sum())/sum_volumes)\n",
    "\n",
    "    spacings[i] = subject.spacing[2]*subject.spacing[1]\n",
    "\n",
    "\n",
    "volumes_1_ed = np.array([volumes_1_ed]).flatten()\n",
    "volumes_2_ed = np.array([volumes_2_ed]).flatten()\n",
    "volumes_3_ed = np.array([volumes_3_ed]).flatten()\n",
    "\n",
    "volumes_1_es = np.array([volumes_1_es]).flatten()\n",
    "volumes_2_es = np.array([volumes_2_es]).flatten()\n",
    "volumes_3_es = np.array([volumes_3_es]).flatten()\n",
    "\n",
    "\n",
    "ejection_fraction_right = (volumes_1_ed - volumes_1_es) / volumes_1_ed\n",
    "ejection_fraction_left = (volumes_3_ed - volumes_3_es) / volumes_3_ed\n",
    "\n",
    "\n",
    "ratioRL_ed = volumes_3_ed / volumes_1_ed\n",
    "ratioRL_es = volumes_3_es / volumes_1_es\n",
    "\n",
    "ratioML_ed = volumes_2_ed / volumes_1_ed\n",
    "ratioML_es = volumes_2_es / volumes_1_es\n",
    "\n",
    "\n",
    "for i, new_col in enumerate([ratioRL_ed[:], ratioRL_es[:], ratioML_ed[:], ratioML_es[:], ejection_fraction_right[:], volumes_1_ed[:], volumes_2_ed[:], volumes_3_ed[:], ejection_fraction_left[:], volumes_1_es[:], volumes_2_es[:], volumes_3_es[:]]):\n",
    "    test_features[:,i] = new_col"
   ]
  },
  {
   "cell_type": "code",
   "execution_count": 85,
   "metadata": {},
   "outputs": [],
   "source": [
    "metaDataTest = pd.read_csv('../metaDataTest.csv')\n",
    "\n",
    "thicknesses_test = np.array(metaDataTest.iloc[:, 3:])#*spacings_test[:, np.newaxis]\n",
    "\n",
    "test_features[:,-12:] = thicknesses_test\n",
    "\n",
    "test_features = test_features[:, mask]\n",
    "test_features_scaled = scaler_first.transform(test_features)"
   ]
  },
  {
   "attachments": {},
   "cell_type": "markdown",
   "metadata": {},
   "source": [
    "We can now predict"
   ]
  },
  {
   "cell_type": "code",
   "execution_count": 86,
   "metadata": {},
   "outputs": [],
   "source": [
    "test_preds = clf.predict(test_features_scaled)"
   ]
  },
  {
   "attachments": {},
   "cell_type": "markdown",
   "metadata": {},
   "source": [
    "And write down for submission"
   ]
  },
  {
   "cell_type": "code",
   "execution_count": 500,
   "metadata": {},
   "outputs": [
    {
     "data": {
      "text/plain": [
       "array([2, 4, 0, 3, 4, 1, 0, 0, 4, 4, 3, 3, 0, 0, 0, 4, 2, 3, 1, 0, 4, 0,\n",
       "       3, 3, 1, 2, 1, 4, 2, 4, 1, 4, 3, 2, 0, 3, 2, 3, 1, 0, 2, 1, 2, 2,\n",
       "       4, 2, 0, 1, 1, 1])"
      ]
     },
     "execution_count": 500,
     "metadata": {},
     "output_type": "execute_result"
    }
   ],
   "source": [
    "test_preds"
   ]
  },
  {
   "cell_type": "code",
   "execution_count": 501,
   "metadata": {},
   "outputs": [],
   "source": [
    "df = pd.read_csv(\"../SampleSubmission.csv\")\n",
    "df.iloc[:, 1] = test_preds\n",
    "df.to_csv(\"../SampleSubmission.csv\", index=False)"
   ]
  }
 ],
 "metadata": {
  "kernelspec": {
   "display_name": "Python 3",
   "language": "python",
   "name": "python3"
  },
  "language_info": {
   "codemirror_mode": {
    "name": "ipython",
    "version": 3
   },
   "file_extension": ".py",
   "mimetype": "text/x-python",
   "name": "python",
   "nbconvert_exporter": "python",
   "pygments_lexer": "ipython3",
   "version": "3.10.9"
  },
  "orig_nbformat": 4
 },
 "nbformat": 4,
 "nbformat_minor": 2
}
